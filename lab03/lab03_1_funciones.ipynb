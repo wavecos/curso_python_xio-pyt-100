{
 "cells": [
  {
   "cell_type": "markdown",
   "metadata": {},
   "source": [
    "# Funciones en Python"
   ]
  },
  {
   "cell_type": "markdown",
   "metadata": {},
   "source": [
    "En Python, una función es un grupo de sentencias relacionadas que realiza una tarea específica.\n",
    "\n",
    "Las funciones ayudan a dividir nuestro programa en fragmentos más pequeños y modulares. A medida que nuestro programa se hace más y más grande, las funciones lo hacen más organizado y manejable.\n",
    "\n",
    "Además, evita la repetición y hace que el código sea reutilizable."
   ]
  },
  {
   "cell_type": "markdown",
   "metadata": {},
   "source": [
    "```\n",
    "def function_name(parameters):\n",
    "\t\"\"\"docstring\"\"\"\n",
    "\tstatement(s)\n",
    "```"
   ]
  },
  {
   "cell_type": "markdown",
   "metadata": {},
   "source": [
    "## Definiendo una función en Python"
   ]
  },
  {
   "cell_type": "code",
   "execution_count": 1,
   "metadata": {},
   "outputs": [],
   "source": [
    "def recta(x):\n",
    "    return x + 3"
   ]
  },
  {
   "cell_type": "code",
   "execution_count": 2,
   "metadata": {},
   "outputs": [
    {
     "data": {
      "text/plain": [
       "8"
      ]
     },
     "execution_count": 2,
     "metadata": {},
     "output_type": "execute_result"
    }
   ],
   "source": [
    "recta(5)"
   ]
  },
  {
   "cell_type": "code",
   "execution_count": 3,
   "metadata": {},
   "outputs": [
    {
     "data": {
      "text/plain": [
       "10"
      ]
     },
     "execution_count": 3,
     "metadata": {},
     "output_type": "execute_result"
    }
   ],
   "source": [
    "recta(7)"
   ]
  },
  {
   "cell_type": "code",
   "execution_count": 5,
   "metadata": {},
   "outputs": [
    {
     "name": "stdout",
     "output_type": "stream",
     "text": [
      "30\n"
     ]
    }
   ],
   "source": [
    "print(recta(9 * 3))"
   ]
  },
  {
   "cell_type": "code",
   "execution_count": 6,
   "metadata": {},
   "outputs": [],
   "source": [
    "# Area de un Círculo\n",
    "def area_circulo(radio):\n",
    "    \"\"\"Calcula el área de un círculo dado su radio\n",
    "    usando la fórmula 'a = pi * radio ^ 2'.\"\"\"\n",
    "    pi = 3.141592\n",
    "    return pi * radio ** 2"
   ]
  },
  {
   "cell_type": "code",
   "execution_count": 7,
   "metadata": {},
   "outputs": [
    {
     "data": {
      "text/plain": [
       "\u001b[0;31mSignature:\u001b[0m \u001b[0marea_circulo\u001b[0m\u001b[0;34m(\u001b[0m\u001b[0mradio\u001b[0m\u001b[0;34m)\u001b[0m\u001b[0;34m\u001b[0m\u001b[0;34m\u001b[0m\u001b[0m\n",
       "\u001b[0;31mDocstring:\u001b[0m\n",
       "Calcula el área de un círculo dado su radio\n",
       "usando la fórmula 'a = pi * radio ^ 2'.\n",
       "\u001b[0;31mFile:\u001b[0m      ~/curso_python_100/lab03/<ipython-input-6-aadb96561c4b>\n",
       "\u001b[0;31mType:\u001b[0m      function\n"
      ]
     },
     "metadata": {},
     "output_type": "display_data"
    }
   ],
   "source": [
    "area_circulo?"
   ]
  },
  {
   "cell_type": "code",
   "execution_count": 8,
   "metadata": {},
   "outputs": [
    {
     "data": {
      "text/plain": [
       "98.52032512"
      ]
     },
     "execution_count": 8,
     "metadata": {},
     "output_type": "execute_result"
    }
   ],
   "source": [
    "area_circulo(5.6)"
   ]
  },
  {
   "cell_type": "code",
   "execution_count": 9,
   "metadata": {},
   "outputs": [],
   "source": [
    "circulo_1 = area_circulo(3.87)"
   ]
  },
  {
   "cell_type": "code",
   "execution_count": 10,
   "metadata": {},
   "outputs": [
    {
     "data": {
      "text/plain": [
       "47.0513092248"
      ]
     },
     "execution_count": 10,
     "metadata": {},
     "output_type": "execute_result"
    }
   ],
   "source": [
    "circulo_1"
   ]
  },
  {
   "cell_type": "code",
   "execution_count": 15,
   "metadata": {},
   "outputs": [],
   "source": [
    "# Valor Absoluto\n",
    "def valor_absoluto(num):\n",
    "#    if num >= 0:\n",
    "#        return num\n",
    "#    else:\n",
    "#        return -num\n",
    "    return (num if num >= 0 else -num)\n",
    "    "
   ]
  },
  {
   "cell_type": "code",
   "execution_count": 16,
   "metadata": {},
   "outputs": [
    {
     "data": {
      "text/plain": [
       "87"
      ]
     },
     "execution_count": 16,
     "metadata": {},
     "output_type": "execute_result"
    }
   ],
   "source": [
    "valor_absoluto(-87)"
   ]
  },
  {
   "cell_type": "code",
   "execution_count": 17,
   "metadata": {},
   "outputs": [
    {
     "data": {
      "text/plain": [
       "45"
      ]
     },
     "execution_count": 17,
     "metadata": {},
     "output_type": "execute_result"
    }
   ],
   "source": [
    "valor_absoluto(45)"
   ]
  },
  {
   "cell_type": "code",
   "execution_count": 18,
   "metadata": {},
   "outputs": [
    {
     "data": {
      "text/plain": [
       "0"
      ]
     },
     "execution_count": 18,
     "metadata": {},
     "output_type": "execute_result"
    }
   ],
   "source": [
    "valor_absoluto(0)"
   ]
  },
  {
   "cell_type": "code",
   "execution_count": 19,
   "metadata": {},
   "outputs": [],
   "source": [
    "# ajuste de sueldo\n",
    "\n",
    "def ajuste_sueldo(sueldo, anios):\n",
    "    if anios > 50 and sueldo >= 2500:\n",
    "        return sueldo * 1.5\n",
    "    else:\n",
    "        return sueldo * 0.5"
   ]
  },
  {
   "cell_type": "code",
   "execution_count": 20,
   "metadata": {},
   "outputs": [
    {
     "data": {
      "text/plain": [
       "2500.0"
      ]
     },
     "execution_count": 20,
     "metadata": {},
     "output_type": "execute_result"
    }
   ],
   "source": [
    "ajuste_sueldo(5000, 41)"
   ]
  },
  {
   "cell_type": "markdown",
   "metadata": {},
   "source": [
    "```\n",
    "def tranferencia_dinero(cuenta_origin, monto, cuenta_destino):\n",
    "    # verificar saldo en cuenta origen\n",
    "    if verificar_saldo(cuenta_origin) < monto:\n",
    "    # verificar cuenta destino\n",
    "    formulario = ......\n",
    "    # conectar con aprobaciones \n",
    "    consultar_aprobacion(formulario)\n",
    "    # enviar monto\n",
    "\n",
    "    \n",
    "def verificar_saldo(cuenta):\n",
    "    print('saldo : ....')\n",
    "    \n",
    "def consultar_aprobacion(formula):\n",
    "    print('saldo : ....')\n",
    "```"
   ]
  },
  {
   "cell_type": "markdown",
   "metadata": {},
   "source": [
    "## Calcular tu peso en otros planetas"
   ]
  },
  {
   "cell_type": "markdown",
   "metadata": {},
   "source": [
    "[Referencia aquí](https://www.levante-emv.com/sociedad/2017/06/30/pesarias-planetas/1587588.html)"
   ]
  },
  {
   "cell_type": "markdown",
   "metadata": {},
   "source": [
    "`p = m * g` peso de una persona"
   ]
  },
  {
   "cell_type": "markdown",
   "metadata": {},
   "source": [
    "Mercurio: 3,70 m/s2\n",
    "Venus: 8,87 m/s2\n",
    "Marte: 3,71 m/s2\n",
    "Júpiter: 23,12 m/s2\n",
    "Saturno: 8,96 m/s2\n",
    "Urano: 8,69 m/s2\n",
    "Neptuno: 11 m/s2\n",
    "Plutón: 0,81 m/s2"
   ]
  },
  {
   "cell_type": "code",
   "execution_count": 23,
   "metadata": {},
   "outputs": [],
   "source": [
    "def peso_en_planeta(peso_tierra, planeta):\n",
    "    gravedad_tierra = 9.8\n",
    "    gravedad_planeta = 0\n",
    "    if planeta == 'jupiter':\n",
    "        gravedad_planeta = 23.12\n",
    "    elif planeta == 'venus':\n",
    "        gravedad_planeta = 8.87\n",
    "    elif planeta == 'mercurio':\n",
    "        gravedad_planeta = 3.70\n",
    "    else:\n",
    "        gravedad_planeta = 0\n",
    "    peso_planeta = peso_tierra / gravedad_tierra * gravedad_planeta\n",
    "    \n",
    "    return 'Tu peso en ' + planeta + ' es igual a ' + f'{peso_planeta:.2f} Kgs.'\n",
    "    "
   ]
  },
  {
   "cell_type": "code",
   "execution_count": 24,
   "metadata": {},
   "outputs": [
    {
     "data": {
      "text/plain": [
       "'Tu peso en jupiter es igual a 154.53 Kgs.'"
      ]
     },
     "execution_count": 24,
     "metadata": {},
     "output_type": "execute_result"
    }
   ],
   "source": [
    "peso_en_planeta(65.5, 'jupiter')"
   ]
  },
  {
   "cell_type": "code",
   "execution_count": 26,
   "metadata": {},
   "outputs": [
    {
     "data": {
      "text/plain": [
       "'Tu peso en mercurio es igual a 24.73 Kgs.'"
      ]
     },
     "execution_count": 26,
     "metadata": {},
     "output_type": "execute_result"
    }
   ],
   "source": [
    "peso_en_planeta(65.5, 'mercurio')"
   ]
  },
  {
   "cell_type": "code",
   "execution_count": 28,
   "metadata": {},
   "outputs": [],
   "source": [
    "# funcion sin parametros\n",
    "def saludo():\n",
    "    return 'Hola humano'"
   ]
  },
  {
   "cell_type": "code",
   "execution_count": 29,
   "metadata": {},
   "outputs": [
    {
     "data": {
      "text/plain": [
       "'Hola humano'"
      ]
     },
     "execution_count": 29,
     "metadata": {},
     "output_type": "execute_result"
    }
   ],
   "source": [
    "saludo()"
   ]
  },
  {
   "cell_type": "code",
   "execution_count": null,
   "metadata": {},
   "outputs": [],
   "source": []
  },
  {
   "cell_type": "code",
   "execution_count": null,
   "metadata": {},
   "outputs": [],
   "source": []
  },
  {
   "cell_type": "code",
   "execution_count": null,
   "metadata": {},
   "outputs": [],
   "source": []
  }
 ],
 "metadata": {
  "kernelspec": {
   "display_name": "Python 3",
   "language": "python",
   "name": "python3"
  },
  "language_info": {
   "codemirror_mode": {
    "name": "ipython",
    "version": 3
   },
   "file_extension": ".py",
   "mimetype": "text/x-python",
   "name": "python",
   "nbconvert_exporter": "python",
   "pygments_lexer": "ipython3",
   "version": "3.7.7"
  }
 },
 "nbformat": 4,
 "nbformat_minor": 4
}
