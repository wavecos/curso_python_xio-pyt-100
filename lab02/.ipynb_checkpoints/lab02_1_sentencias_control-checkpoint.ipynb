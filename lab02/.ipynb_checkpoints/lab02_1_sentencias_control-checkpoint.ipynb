{
 "cells": [
  {
   "cell_type": "markdown",
   "metadata": {},
   "source": [
    "# Sentencias de Control"
   ]
  },
  {
   "cell_type": "markdown",
   "metadata": {},
   "source": [
    "# if - if..else - if..elif..else"
   ]
  },
  {
   "cell_type": "markdown",
   "metadata": {},
   "source": [
    "## Sentencia if"
   ]
  },
  {
   "cell_type": "markdown",
   "metadata": {},
   "source": [
    "La sentencia `if` es usada para una ejecución condicional. Esta condición debe evaluarse para True o False\n",
    "* p.ej. Verifiquemos si el alumno pasó de curso:"
   ]
  },
  {
   "cell_type": "code",
   "execution_count": 10,
   "metadata": {},
   "outputs": [
    {
     "name": "stdin",
     "output_type": "stream",
     "text": [
      "nota del alumno? 98\n"
     ]
    },
    {
     "name": "stdout",
     "output_type": "stream",
     "text": [
      "aprobaste el curso\n",
      "imprimir un certificado\n",
      "enviar un mail\n",
      "enviar un whatsapp\n",
      "fin del programa\n"
     ]
    }
   ],
   "source": [
    "nota = int(input('nota del alumno?'))\n",
    "hay_internet = True\n",
    "\n",
    "if nota >= 51:\n",
    "    print('aprobaste el curso')\n",
    "    print('imprimir un certificado')\n",
    "    if hay_internet:\n",
    "        print('enviar un mail')\n",
    "        print('enviar un whatsapp')\n",
    "print('fin del programa')"
   ]
  },
  {
   "cell_type": "markdown",
   "metadata": {},
   "source": [
    "## Sentencia if..else"
   ]
  },
  {
   "cell_type": "markdown",
   "metadata": {},
   "source": [
    "La sentencia `else` se considera como un camino alternativo a `if`, p.ej."
   ]
  },
  {
   "cell_type": "code",
   "execution_count": 13,
   "metadata": {},
   "outputs": [
    {
     "name": "stdin",
     "output_type": "stream",
     "text": [
      "nota del alumno? 23\n"
     ]
    },
    {
     "name": "stdout",
     "output_type": "stream",
     "text": [
      "el alumno reprobo con  23\n"
     ]
    },
    {
     "name": "stdin",
     "output_type": "stream",
     "text": [
      "quieres ajustar la nota? (s/n) n\n"
     ]
    },
    {
     "name": "stdout",
     "output_type": "stream",
     "text": [
      "Reprobado con 23 tiene que reforzar\n",
      "fin del programa\n"
     ]
    }
   ],
   "source": [
    "nota = int(input('nota del alumno?'))\n",
    "\n",
    "if nota >= 51:\n",
    "    print('aprobaste el curso')\n",
    "    print('imprimir un certificado')\n",
    "else:\n",
    "    print('el alumno reprobo con ', nota)\n",
    "    ajuste = input('quieres ajustar la nota? (s/n)')\n",
    "    if ajuste == 's':\n",
    "        nota_ajuste = int(input('incrementar la nota en?'))\n",
    "        nota_final = nota + nota_ajuste\n",
    "        print('el alumno reprobo con', nota, ' pero se subio la nota a', nota_final)\n",
    "    else:\n",
    "        print('Reprobado con', nota, 'tiene que reforzar')\n",
    "print('fin del programa')"
   ]
  },
  {
   "cell_type": "markdown",
   "metadata": {},
   "source": [
    "Otra forma de usar sentencias de control y asignar la evaluación a una variable:"
   ]
  },
  {
   "cell_type": "code",
   "execution_count": 15,
   "metadata": {},
   "outputs": [],
   "source": [
    "resultado = ('Aprobaste' if nota >= 51 else 'Reprobado')"
   ]
  },
  {
   "cell_type": "code",
   "execution_count": 16,
   "metadata": {},
   "outputs": [
    {
     "data": {
      "text/plain": [
       "'Reprobado'"
      ]
     },
     "execution_count": 16,
     "metadata": {},
     "output_type": "execute_result"
    }
   ],
   "source": [
    "resultado"
   ]
  },
  {
   "cell_type": "code",
   "execution_count": 17,
   "metadata": {},
   "outputs": [],
   "source": [
    "if nota >= 51:\n",
    "    resultado = 'Aprobaste'\n",
    "else:\n",
    "    resultado = 'Reprobado'"
   ]
  },
  {
   "cell_type": "code",
   "execution_count": 18,
   "metadata": {},
   "outputs": [
    {
     "data": {
      "text/plain": [
       "'Reprobado'"
      ]
     },
     "execution_count": 18,
     "metadata": {},
     "output_type": "execute_result"
    }
   ],
   "source": [
    "resultado"
   ]
  },
  {
   "cell_type": "markdown",
   "metadata": {},
   "source": [
    "## Importante - Códigos de Bloque en Python"
   ]
  },
  {
   "cell_type": "markdown",
   "metadata": {},
   "source": [
    "Un código de bloque es un conjunto de sentencias que serán ejecutadas juntas, una después de la otra.\n",
    "En Python los bloques son definidos por la identación, dicha identación debe ser uniforme y consistente. A diferencia de otros lenguajes que usan por ejemplo `{` y `}` para definir un bloque de código."
   ]
  },
  {
   "cell_type": "markdown",
   "metadata": {},
   "source": [
    "> En Python la identación por defecto es de 4 espacios."
   ]
  },
  {
   "cell_type": "markdown",
   "metadata": {},
   "source": [
    "## Sentencias if..elif..else"
   ]
  },
  {
   "cell_type": "markdown",
   "metadata": {},
   "source": [
    "la sentencia `elif` se utiliza para múltiples condiciones, se puede interpretar como \"en caso contrario si...\", p.ej."
   ]
  },
  {
   "cell_type": "code",
   "execution_count": 21,
   "metadata": {},
   "outputs": [
    {
     "name": "stdin",
     "output_type": "stream",
     "text": [
      "nota del alumno? 99\n"
     ]
    },
    {
     "name": "stdout",
     "output_type": "stream",
     "text": [
      "Excelente!\n"
     ]
    }
   ],
   "source": [
    "nota = int(input('nota del alumno?'))\n",
    "\n",
    "if nota >= 95:\n",
    "    print('Excelente!')\n",
    "elif nota > 75:\n",
    "    print('Muy bien')\n",
    "elif nota > 51:\n",
    "    print('Bien')\n",
    "else:\n",
    "    print('Reprobado!!')"
   ]
  },
  {
   "cell_type": "code",
   "execution_count": null,
   "metadata": {},
   "outputs": [],
   "source": []
  }
 ],
 "metadata": {
  "kernelspec": {
   "display_name": "Python 3",
   "language": "python",
   "name": "python3"
  },
  "language_info": {
   "codemirror_mode": {
    "name": "ipython",
    "version": 3
   },
   "file_extension": ".py",
   "mimetype": "text/x-python",
   "name": "python",
   "nbconvert_exporter": "python",
   "pygments_lexer": "ipython3",
   "version": "3.7.7"
  }
 },
 "nbformat": 4,
 "nbformat_minor": 4
}
