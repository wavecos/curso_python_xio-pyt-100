{
 "cells": [
  {
   "cell_type": "markdown",
   "metadata": {},
   "source": [
    "# Operadores Booleanos"
   ]
  },
  {
   "cell_type": "markdown",
   "metadata": {},
   "source": [
    "## Diagrama de Venn"
   ]
  },
  {
   "cell_type": "markdown",
   "metadata": {},
   "source": [
    "![Diagrama de Venn](images/venn_diagram.png)"
   ]
  },
  {
   "cell_type": "markdown",
   "metadata": {},
   "source": [
    "## Lógica Booleana"
   ]
  },
  {
   "cell_type": "markdown",
   "metadata": {},
   "source": [
    "![Lógica booleana](images/truth-table.png)"
   ]
  },
  {
   "cell_type": "markdown",
   "metadata": {},
   "source": [
    "# Ejemplo operador AND"
   ]
  },
  {
   "cell_type": "markdown",
   "metadata": {},
   "source": [
    "**and** se lee como \"y\" lógico"
   ]
  },
  {
   "cell_type": "code",
   "execution_count": 7,
   "metadata": {},
   "outputs": [
    {
     "name": "stdin",
     "output_type": "stream",
     "text": [
      "cuál es tu género? (varon/mujer)? mujer\n",
      "cuál es tu edad? 57\n",
      "cuál es tu sueldo? 1000\n"
     ]
    },
    {
     "name": "stdout",
     "output_type": "stream",
     "text": [
      "Estas en edad de jubilarte y tu pension sera 900\n"
     ]
    }
   ],
   "source": [
    "genero = input('cuál es tu género? (varon/mujer)?')\n",
    "edad = int(input('cuál es tu edad?'))\n",
    "sueldo = int(input('cuál es tu sueldo?'))\n",
    "\n",
    "if genero == 'mujer' and edad > 50:\n",
    "    sueldo -= 100\n",
    "    print('Estas en edad de jubilarte y tu pension sera', sueldo)\n",
    "elif genero == 'varon' and edad > 55:\n",
    "    sueldo -= 150\n",
    "    print('Estas en edad de jubilarte y tu pension sera', sueldo)\n",
    "else:\n",
    "    sueldo += 50\n",
    "    print('Estas en edad laboral, tu nuevo sueldo es', sueldo)"
   ]
  },
  {
   "cell_type": "markdown",
   "metadata": {},
   "source": [
    "## Ejemplo Operador `Or`\n",
    "**or** se lee como \"o\" lógico"
   ]
  },
  {
   "cell_type": "code",
   "execution_count": 9,
   "metadata": {},
   "outputs": [
    {
     "name": "stdin",
     "output_type": "stream",
     "text": [
      "cual es tu género? (mujer/varon) varon\n",
      "cuál es el sueldo? 7000\n",
      "tienes hijos? (s/n) s\n"
     ]
    },
    {
     "name": "stdout",
     "output_type": "stream",
     "text": [
      "No aplicas a ningún bono\n"
     ]
    }
   ],
   "source": [
    "genero = input('cual es tu género? (mujer/varon)')\n",
    "sueldo = int(input('cuál es el sueldo?'))\n",
    "hijos = input('tienes hijos? (s/n)')\n",
    "\n",
    "if (genero == 'mujer' or sueldo < 2000) and hijos == 's':\n",
    "    print('Tienes derecho a un Bono Familia')\n",
    "elif genero == 'varon' and sueldo < 1500:\n",
    "    print('Tienes derecho a un Bono Solidario')\n",
    "else:\n",
    "    print('No aplicas a ningún bono')"
   ]
  },
  {
   "cell_type": "markdown",
   "metadata": {},
   "source": [
    "## Ejemplo Operador `Not`\n",
    "**not** se lee como \"no\" lógico, se usa para negación"
   ]
  },
  {
   "cell_type": "code",
   "execution_count": 14,
   "metadata": {},
   "outputs": [
    {
     "name": "stdin",
     "output_type": "stream",
     "text": [
      "edad 85\n",
      "positivo virus? (1/0) 0\n"
     ]
    },
    {
     "name": "stdout",
     "output_type": "stream",
     "text": [
      "Estas en edad de riesgo\n"
     ]
    }
   ],
   "source": [
    "edad = int(input('edad'))\n",
    "virus = int(input('positivo virus? (1/0)'))\n",
    "\n",
    "# if virus == 1:\n",
    "#     tiene_virus = True\n",
    "# else:\n",
    "#     tiene_virus = False\n",
    "\n",
    "tiene_virus = virus == 1\n",
    "\n",
    "if edad > 60 and not tiene_virus:\n",
    "    print('Estas en edad de riesgo')\n",
    "else:\n",
    "    print('Tienes que estar en cuarentena absoluta')"
   ]
  },
  {
   "cell_type": "code",
   "execution_count": null,
   "metadata": {},
   "outputs": [],
   "source": []
  }
 ],
 "metadata": {
  "kernelspec": {
   "display_name": "Python 3",
   "language": "python",
   "name": "python3"
  },
  "language_info": {
   "codemirror_mode": {
    "name": "ipython",
    "version": 3
   },
   "file_extension": ".py",
   "mimetype": "text/x-python",
   "name": "python",
   "nbconvert_exporter": "python",
   "pygments_lexer": "ipython3",
   "version": "3.7.7"
  }
 },
 "nbformat": 4,
 "nbformat_minor": 4
}
