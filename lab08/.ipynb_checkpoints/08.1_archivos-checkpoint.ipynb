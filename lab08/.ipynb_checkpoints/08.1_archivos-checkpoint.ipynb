{
 "cells": [
  {
   "cell_type": "markdown",
   "metadata": {},
   "source": [
    "# Manejo de Archivos de Texto en Python"
   ]
  },
  {
   "cell_type": "markdown",
   "metadata": {},
   "source": [
    "## Escritura de Archivos"
   ]
  },
  {
   "cell_type": "code",
   "execution_count": 1,
   "metadata": {},
   "outputs": [],
   "source": [
    "with open('salida.txt', mode='w') as planilla:\n",
    "    planilla.write('1001 Juan Perez 3600\\n')\n",
    "    planilla.write('1002 Maria Gonzalez 4500\\n')\n",
    "    planilla.write('1003 Ramon Tirado 2500\\n')"
   ]
  },
  {
   "cell_type": "code",
   "execution_count": 3,
   "metadata": {},
   "outputs": [
    {
     "name": "stdout",
     "output_type": "stream",
     "text": [
      "total 16\n",
      "drwxr-xr-x   5 onix  staff   160 Jun  5 20:52 \u001b[1m\u001b[36m.\u001b[m\u001b[m\n",
      "drwxr-xr-x  13 onix  staff   416 Jun  5 20:52 \u001b[1m\u001b[36m..\u001b[m\u001b[m\n",
      "drwxr-xr-x   4 onix  staff   128 Jun  5 20:51 \u001b[1m\u001b[36m.ipynb_checkpoints\u001b[m\u001b[m\n",
      "-rw-r--r--   1 onix  staff  1579 Jun  5 20:52 08.1_archivos.ipynb\n",
      "-rw-r--r--@  1 onix  staff    69 Jun  5 20:51 salida.txt\n"
     ]
    }
   ],
   "source": [
    "!ls -al"
   ]
  },
  {
   "cell_type": "code",
   "execution_count": 11,
   "metadata": {},
   "outputs": [],
   "source": [
    "with open('salida.txt', mode='w') as planilla:\n",
    "    planilla.write('1001\\t\\tJuan Perez\\t\\t\\t3600\\n')\n",
    "    planilla.write('1002\\t\\tMaria Gonzalez\\t\\t\\t4500\\n')\n",
    "    planilla.write('1003\\t\\tRamon Tirado\\t\\t\\t2500\\n')"
   ]
  },
  {
   "cell_type": "code",
   "execution_count": 12,
   "metadata": {},
   "outputs": [],
   "source": [
    "with open('salida.txt', mode='w') as planilla:\n",
    "    planilla.write('1001,Juan Perez,3600\\n')\n",
    "    planilla.write('1002,Maria Gonzalez,4500\\n')\n",
    "    planilla.write('1003,Ramon Tirado,2500')"
   ]
  },
  {
   "cell_type": "code",
   "execution_count": 5,
   "metadata": {},
   "outputs": [],
   "source": [
    "# Tabla de multiplicar"
   ]
  },
  {
   "cell_type": "code",
   "execution_count": 10,
   "metadata": {},
   "outputs": [],
   "source": [
    "with open('tabla7.txt', mode='w') as tabla:\n",
    "    for num in range(1, 11):\n",
    "        tabla.write(f'{num:2d} x 7 = {num * 7}\\n')"
   ]
  },
  {
   "cell_type": "markdown",
   "metadata": {},
   "source": [
    "## Lectura de Archivos"
   ]
  },
  {
   "cell_type": "code",
   "execution_count": 14,
   "metadata": {},
   "outputs": [
    {
     "name": "stdout",
     "output_type": "stream",
     "text": [
      "Nro.Cuenta     Apellido          Salario\n",
      "1001           Juan Perez          3600\n",
      "\n",
      "1002           Maria Gonzalez      4500\n",
      "\n",
      "1003           Ramon Tirado        2500\n",
      "\n",
      "1003           Pedro Nogales       8200\n",
      "\n"
     ]
    }
   ],
   "source": [
    "with open('salida.txt', mode='r') as cuentas:\n",
    "    print(f'{\"Nro.Cuenta\":<15}{\"Apellido\":<15}{\"Salario\":>10}')\n",
    "    for registro in cuentas:\n",
    "        codigo, nombre, sueldo = registro.split(',')\n",
    "        print(f'{codigo:<15}{nombre:<15}{sueldo:>10}')"
   ]
  },
  {
   "cell_type": "code",
   "execution_count": null,
   "metadata": {},
   "outputs": [],
   "source": []
  }
 ],
 "metadata": {
  "kernelspec": {
   "display_name": "Python 3",
   "language": "python",
   "name": "python3"
  },
  "language_info": {
   "codemirror_mode": {
    "name": "ipython",
    "version": 3
   },
   "file_extension": ".py",
   "mimetype": "text/x-python",
   "name": "python",
   "nbconvert_exporter": "python",
   "pygments_lexer": "ipython3",
   "version": "3.7.7"
  }
 },
 "nbformat": 4,
 "nbformat_minor": 4
}
