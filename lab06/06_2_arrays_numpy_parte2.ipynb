{
 "cells": [
  {
   "cell_type": "markdown",
   "metadata": {},
   "source": [
    "# Arrays con Numpy Parte II"
   ]
  },
  {
   "cell_type": "markdown",
   "metadata": {},
   "source": [
    "## Números randómicos (aleatorios)"
   ]
  },
  {
   "cell_type": "code",
   "execution_count": 1,
   "metadata": {},
   "outputs": [],
   "source": [
    "import numpy as np"
   ]
  },
  {
   "cell_type": "markdown",
   "metadata": {},
   "source": [
    "## Funcion rand()"
   ]
  },
  {
   "cell_type": "code",
   "execution_count": 3,
   "metadata": {},
   "outputs": [
    {
     "data": {
      "text/plain": [
       "\u001b[0;31mDocstring:\u001b[0m\n",
       "rand(d0, d1, ..., dn)\n",
       "\n",
       "Random values in a given shape.\n",
       "\n",
       ".. note::\n",
       "    This is a convenience function for users porting code from Matlab,\n",
       "    and wraps `random_sample`. That function takes a\n",
       "    tuple to specify the size of the output, which is consistent with\n",
       "    other NumPy functions like `numpy.zeros` and `numpy.ones`.\n",
       "\n",
       "Create an array of the given shape and populate it with\n",
       "random samples from a uniform distribution\n",
       "over ``[0, 1)``.\n",
       "\n",
       "Parameters\n",
       "----------\n",
       "d0, d1, ..., dn : int, optional\n",
       "    The dimensions of the returned array, must be non-negative.\n",
       "    If no argument is given a single Python float is returned.\n",
       "\n",
       "Returns\n",
       "-------\n",
       "out : ndarray, shape ``(d0, d1, ..., dn)``\n",
       "    Random values.\n",
       "\n",
       "See Also\n",
       "--------\n",
       "random\n",
       "\n",
       "Examples\n",
       "--------\n",
       ">>> np.random.rand(3,2)\n",
       "array([[ 0.14022471,  0.96360618],  #random\n",
       "       [ 0.37601032,  0.25528411],  #random\n",
       "       [ 0.49313049,  0.94909878]]) #random\n",
       "\u001b[0;31mType:\u001b[0m      builtin_function_or_method\n"
      ]
     },
     "metadata": {},
     "output_type": "display_data"
    }
   ],
   "source": [
    "np.random.rand?"
   ]
  },
  {
   "cell_type": "code",
   "execution_count": 4,
   "metadata": {},
   "outputs": [],
   "source": [
    "indicadores = np.random.rand(5)"
   ]
  },
  {
   "cell_type": "code",
   "execution_count": 5,
   "metadata": {},
   "outputs": [
    {
     "data": {
      "text/plain": [
       "array([0.08996151, 0.61349207, 0.31605669, 0.54051235, 0.95956628])"
      ]
     },
     "execution_count": 5,
     "metadata": {},
     "output_type": "execute_result"
    }
   ],
   "source": [
    "indicadores"
   ]
  },
  {
   "cell_type": "code",
   "execution_count": 6,
   "metadata": {},
   "outputs": [
    {
     "data": {
      "text/plain": [
       "(5,)"
      ]
     },
     "execution_count": 6,
     "metadata": {},
     "output_type": "execute_result"
    }
   ],
   "source": [
    "indicadores.shape"
   ]
  },
  {
   "cell_type": "code",
   "execution_count": 9,
   "metadata": {},
   "outputs": [],
   "source": [
    "indicadores2 = np.random.rand(7, 5)"
   ]
  },
  {
   "cell_type": "code",
   "execution_count": 10,
   "metadata": {},
   "outputs": [
    {
     "data": {
      "text/plain": [
       "array([[0.98866992, 0.33408582, 0.39411921, 0.58203199, 0.13067702],\n",
       "       [0.83881424, 0.38645502, 0.70753973, 0.65484341, 0.39026396],\n",
       "       [0.64259014, 0.61330157, 0.54178822, 0.07521541, 0.54668758],\n",
       "       [0.196157  , 0.8265249 , 0.15856422, 0.80981388, 0.97526163],\n",
       "       [0.3335602 , 0.8963089 , 0.47529287, 0.02545492, 0.02044262],\n",
       "       [0.84895736, 0.69588948, 0.47889207, 0.60293819, 0.07109706],\n",
       "       [0.30244693, 0.24568932, 0.21382738, 0.58223992, 0.26067621]])"
      ]
     },
     "execution_count": 10,
     "metadata": {},
     "output_type": "execute_result"
    }
   ],
   "source": [
    "indicadores2"
   ]
  },
  {
   "cell_type": "markdown",
   "metadata": {},
   "source": [
    "## Funciones de ndarrays"
   ]
  },
  {
   "cell_type": "code",
   "execution_count": 12,
   "metadata": {},
   "outputs": [
    {
     "data": {
      "text/plain": [
       "0.02044262065527902"
      ]
     },
     "execution_count": 12,
     "metadata": {},
     "output_type": "execute_result"
    }
   ],
   "source": [
    "indicadores2.min()"
   ]
  },
  {
   "cell_type": "code",
   "execution_count": 13,
   "metadata": {},
   "outputs": [
    {
     "data": {
      "text/plain": [
       "0.9886699154029451"
      ]
     },
     "execution_count": 13,
     "metadata": {},
     "output_type": "execute_result"
    }
   ],
   "source": [
    "indicadores2.max()"
   ]
  },
  {
   "cell_type": "code",
   "execution_count": 14,
   "metadata": {},
   "outputs": [
    {
     "data": {
      "text/plain": [
       "0.48134623726362935"
      ]
     },
     "execution_count": 14,
     "metadata": {},
     "output_type": "execute_result"
    }
   ],
   "source": [
    "indicadores2.mean()"
   ]
  },
  {
   "cell_type": "code",
   "execution_count": 15,
   "metadata": {},
   "outputs": [
    {
     "data": {
      "text/plain": [
       "16.847118304227028"
      ]
     },
     "execution_count": 15,
     "metadata": {},
     "output_type": "execute_result"
    }
   ],
   "source": [
    "indicadores2.sum()"
   ]
  },
  {
   "cell_type": "code",
   "execution_count": 16,
   "metadata": {},
   "outputs": [],
   "source": [
    "indicadores2.sort()"
   ]
  },
  {
   "cell_type": "code",
   "execution_count": 17,
   "metadata": {},
   "outputs": [
    {
     "data": {
      "text/plain": [
       "array([[0.13067702, 0.33408582, 0.39411921, 0.58203199, 0.98866992],\n",
       "       [0.38645502, 0.39026396, 0.65484341, 0.70753973, 0.83881424],\n",
       "       [0.07521541, 0.54178822, 0.54668758, 0.61330157, 0.64259014],\n",
       "       [0.15856422, 0.196157  , 0.80981388, 0.8265249 , 0.97526163],\n",
       "       [0.02044262, 0.02545492, 0.3335602 , 0.47529287, 0.8963089 ],\n",
       "       [0.07109706, 0.47889207, 0.60293819, 0.69588948, 0.84895736],\n",
       "       [0.21382738, 0.24568932, 0.26067621, 0.30244693, 0.58223992]])"
      ]
     },
     "execution_count": 17,
     "metadata": {},
     "output_type": "execute_result"
    }
   ],
   "source": [
    "indicadores2"
   ]
  },
  {
   "cell_type": "code",
   "execution_count": 18,
   "metadata": {},
   "outputs": [
    {
     "data": {
      "text/plain": [
       "0.07758567306281847"
      ]
     },
     "execution_count": 18,
     "metadata": {},
     "output_type": "execute_result"
    }
   ],
   "source": [
    "indicadores2.var()"
   ]
  },
  {
   "cell_type": "code",
   "execution_count": 19,
   "metadata": {},
   "outputs": [
    {
     "data": {
      "text/plain": [
       "0.27854204900305174"
      ]
     },
     "execution_count": 19,
     "metadata": {},
     "output_type": "execute_result"
    }
   ],
   "source": [
    "indicadores2.std()"
   ]
  },
  {
   "cell_type": "markdown",
   "metadata": {},
   "source": [
    "## Funcion randint()"
   ]
  },
  {
   "cell_type": "code",
   "execution_count": 20,
   "metadata": {},
   "outputs": [
    {
     "data": {
      "text/plain": [
       "\u001b[0;31mDocstring:\u001b[0m\n",
       "randint(low, high=None, size=None, dtype='l')\n",
       "\n",
       "Return random integers from `low` (inclusive) to `high` (exclusive).\n",
       "\n",
       "Return random integers from the \"discrete uniform\" distribution of\n",
       "the specified dtype in the \"half-open\" interval [`low`, `high`). If\n",
       "`high` is None (the default), then results are from [0, `low`).\n",
       "\n",
       ".. note::\n",
       "    New code should use the ``integers`` method of a ``default_rng()``\n",
       "    instance instead; see `random-quick-start`.\n",
       "\n",
       "Parameters\n",
       "----------\n",
       "low : int or array-like of ints\n",
       "    Lowest (signed) integers to be drawn from the distribution (unless\n",
       "    ``high=None``, in which case this parameter is one above the\n",
       "    *highest* such integer).\n",
       "high : int or array-like of ints, optional\n",
       "    If provided, one above the largest (signed) integer to be drawn\n",
       "    from the distribution (see above for behavior if ``high=None``).\n",
       "    If array-like, must contain integer values\n",
       "size : int or tuple of ints, optional\n",
       "    Output shape.  If the given shape is, e.g., ``(m, n, k)``, then\n",
       "    ``m * n * k`` samples are drawn.  Default is None, in which case a\n",
       "    single value is returned.\n",
       "dtype : dtype, optional\n",
       "    Desired dtype of the result. All dtypes are determined by their\n",
       "    name, i.e., 'int64', 'int', etc, so byteorder is not available\n",
       "    and a specific precision may have different C types depending\n",
       "    on the platform. The default value is `np.int_`.\n",
       "\n",
       "    .. versionadded:: 1.11.0\n",
       "\n",
       "Returns\n",
       "-------\n",
       "out : int or ndarray of ints\n",
       "    `size`-shaped array of random integers from the appropriate\n",
       "    distribution, or a single such random int if `size` not provided.\n",
       "\n",
       "See Also\n",
       "--------\n",
       "random_integers : similar to `randint`, only for the closed\n",
       "    interval [`low`, `high`], and 1 is the lowest value if `high` is\n",
       "    omitted.\n",
       "Generator.integers: which should be used for new code.\n",
       "\n",
       "Examples\n",
       "--------\n",
       ">>> np.random.randint(2, size=10)\n",
       "array([1, 0, 0, 0, 1, 1, 0, 0, 1, 0]) # random\n",
       ">>> np.random.randint(1, size=10)\n",
       "array([0, 0, 0, 0, 0, 0, 0, 0, 0, 0])\n",
       "\n",
       "Generate a 2 x 4 array of ints between 0 and 4, inclusive:\n",
       "\n",
       ">>> np.random.randint(5, size=(2, 4))\n",
       "array([[4, 0, 2, 1], # random\n",
       "       [3, 2, 2, 0]])\n",
       "\n",
       "Generate a 1 x 3 array with 3 different upper bounds\n",
       "\n",
       ">>> np.random.randint(1, [3, 5, 10])\n",
       "array([2, 2, 9]) # random\n",
       "\n",
       "Generate a 1 by 3 array with 3 different lower bounds\n",
       "\n",
       ">>> np.random.randint([1, 5, 7], 10)\n",
       "array([9, 8, 7]) # random\n",
       "\n",
       "Generate a 2 by 4 array using broadcasting with dtype of uint8\n",
       "\n",
       ">>> np.random.randint([1, 3, 5, 7], [[10], [20]], dtype=np.uint8)\n",
       "array([[ 8,  6,  9,  7], # random\n",
       "       [ 1, 16,  9, 12]], dtype=uint8)\n",
       "\u001b[0;31mType:\u001b[0m      builtin_function_or_method\n"
      ]
     },
     "metadata": {},
     "output_type": "display_data"
    }
   ],
   "source": [
    "np.random.randint?"
   ]
  },
  {
   "cell_type": "code",
   "execution_count": 21,
   "metadata": {},
   "outputs": [
    {
     "data": {
      "text/plain": [
       "array([33, 38, 24, 16, 71, 83, 30, 97, 83, 71, 25, 82, 94,  1, 84])"
      ]
     },
     "execution_count": 21,
     "metadata": {},
     "output_type": "execute_result"
    }
   ],
   "source": [
    "np.random.randint(1, 100, 15)"
   ]
  },
  {
   "cell_type": "code",
   "execution_count": 22,
   "metadata": {},
   "outputs": [
    {
     "data": {
      "text/plain": [
       "array([[67,  3, 66, 48],\n",
       "       [51, 23, 37, 96],\n",
       "       [95, 19, 66, 62],\n",
       "       [49, 94, 65, 21],\n",
       "       [82, 24, 14, 22]])"
      ]
     },
     "execution_count": 22,
     "metadata": {},
     "output_type": "execute_result"
    }
   ],
   "source": [
    "np.random.randint(1, 100, size=(5, 4))"
   ]
  },
  {
   "cell_type": "code",
   "execution_count": 23,
   "metadata": {},
   "outputs": [],
   "source": [
    "temperaturas = np.random.randint(20, 25, size=(30, 7))"
   ]
  },
  {
   "cell_type": "code",
   "execution_count": 24,
   "metadata": {},
   "outputs": [
    {
     "data": {
      "text/plain": [
       "array([[20, 23, 21, 21, 23, 22, 24],\n",
       "       [23, 21, 20, 21, 20, 21, 20],\n",
       "       [21, 24, 22, 20, 23, 21, 24],\n",
       "       [20, 22, 23, 22, 21, 24, 24],\n",
       "       [24, 24, 21, 22, 21, 21, 22],\n",
       "       [24, 20, 21, 20, 23, 24, 23],\n",
       "       [20, 24, 24, 20, 21, 23, 24],\n",
       "       [23, 20, 23, 22, 20, 20, 21],\n",
       "       [24, 22, 23, 21, 22, 23, 20],\n",
       "       [21, 23, 24, 24, 23, 20, 22],\n",
       "       [21, 21, 22, 22, 20, 21, 23],\n",
       "       [21, 20, 24, 21, 20, 23, 20],\n",
       "       [22, 22, 23, 23, 22, 20, 21],\n",
       "       [23, 20, 21, 20, 20, 21, 24],\n",
       "       [23, 23, 22, 22, 24, 20, 22],\n",
       "       [22, 24, 22, 20, 20, 20, 21],\n",
       "       [20, 23, 24, 23, 24, 20, 23],\n",
       "       [24, 20, 24, 24, 20, 23, 24],\n",
       "       [24, 20, 20, 22, 20, 22, 22],\n",
       "       [24, 23, 22, 21, 23, 21, 20],\n",
       "       [23, 24, 22, 20, 24, 20, 20],\n",
       "       [20, 20, 22, 24, 21, 22, 22],\n",
       "       [21, 21, 24, 22, 23, 22, 24],\n",
       "       [23, 24, 23, 22, 21, 24, 23],\n",
       "       [23, 22, 23, 20, 22, 22, 20],\n",
       "       [22, 23, 22, 23, 22, 24, 20],\n",
       "       [23, 20, 20, 20, 20, 24, 21],\n",
       "       [23, 21, 20, 22, 20, 22, 20],\n",
       "       [22, 24, 21, 22, 22, 22, 21],\n",
       "       [22, 21, 24, 22, 24, 20, 22]])"
      ]
     },
     "execution_count": 24,
     "metadata": {},
     "output_type": "execute_result"
    }
   ],
   "source": [
    "temperaturas"
   ]
  },
  {
   "cell_type": "code",
   "execution_count": 25,
   "metadata": {},
   "outputs": [],
   "source": [
    "delta = np.random.rand(30, 7)"
   ]
  },
  {
   "cell_type": "code",
   "execution_count": 26,
   "metadata": {},
   "outputs": [
    {
     "data": {
      "text/plain": [
       "array([[0.40668702, 0.01732886, 0.50469123, 0.207384  , 0.35244755,\n",
       "        0.84409777, 0.51757936],\n",
       "       [0.88302244, 0.13958916, 0.20231934, 0.66104862, 0.36543658,\n",
       "        0.31400093, 0.98851785],\n",
       "       [0.70315138, 0.51079151, 0.02712875, 0.01685903, 0.51483028,\n",
       "        0.05565623, 0.19187148],\n",
       "       [0.31472958, 0.05233688, 0.46777781, 0.52925598, 0.14584544,\n",
       "        0.76634723, 0.24265241],\n",
       "       [0.93731672, 0.13678812, 0.77746595, 0.86512057, 0.33131928,\n",
       "        0.36552373, 0.67632552],\n",
       "       [0.33397939, 0.63544861, 0.71032491, 0.44342916, 0.77527015,\n",
       "        0.68952307, 0.76371448],\n",
       "       [0.05585435, 0.26196925, 0.95672185, 0.01682646, 0.15341511,\n",
       "        0.23140648, 0.32357077],\n",
       "       [0.41972675, 0.93756803, 0.8556299 , 0.84173138, 0.66619476,\n",
       "        0.94060288, 0.95479786],\n",
       "       [0.17965445, 0.57923555, 0.30770629, 0.57451482, 0.08395345,\n",
       "        0.17087822, 0.0203999 ],\n",
       "       [0.01624197, 0.43116121, 0.32765788, 0.99689326, 0.41839228,\n",
       "        0.03977916, 0.90470726],\n",
       "       [0.72411073, 0.7135225 , 0.68598289, 0.32494916, 0.50776929,\n",
       "        0.58639089, 0.90774286],\n",
       "       [0.68967931, 0.1041026 , 0.47255442, 0.24716557, 0.92524154,\n",
       "        0.423959  , 0.45834797],\n",
       "       [0.69355271, 0.94185456, 0.67357447, 0.65068276, 0.04479459,\n",
       "        0.82143452, 0.12573695],\n",
       "       [0.80380867, 0.8743516 , 0.46158988, 0.85841634, 0.838584  ,\n",
       "        0.03486396, 0.87477346],\n",
       "       [0.91647986, 0.32718569, 0.34165728, 0.70765794, 0.62588773,\n",
       "        0.50014588, 0.79095682],\n",
       "       [0.74680887, 0.03270943, 0.28521567, 0.30962694, 0.73746542,\n",
       "        0.28388484, 0.44775056],\n",
       "       [0.95436603, 0.3276072 , 0.31788082, 0.48659769, 0.45893118,\n",
       "        0.40076783, 0.80124514],\n",
       "       [0.52233106, 0.20454463, 0.06957399, 0.96502957, 0.43843276,\n",
       "        0.21826134, 0.34237602],\n",
       "       [0.99214718, 0.74491897, 0.15699508, 0.0701358 , 0.65810009,\n",
       "        0.31835155, 0.85045377],\n",
       "       [0.92784897, 0.14125473, 0.29188256, 0.64717563, 0.7529221 ,\n",
       "        0.15403505, 0.57126781],\n",
       "       [0.81180594, 0.13950138, 0.00123941, 0.10641931, 0.13757855,\n",
       "        0.36776702, 0.32535668],\n",
       "       [0.32903766, 0.60382631, 0.36964485, 0.22965869, 0.67048335,\n",
       "        0.56634856, 0.77300517],\n",
       "       [0.19817611, 0.1514165 , 0.90977514, 0.87570633, 0.08029716,\n",
       "        0.99090969, 0.37365325],\n",
       "       [0.21035811, 0.66292026, 0.42385292, 0.90732335, 0.85161023,\n",
       "        0.5837334 , 0.13671938],\n",
       "       [0.09562882, 0.47126706, 0.8304124 , 0.77777863, 0.9796663 ,\n",
       "        0.815243  , 0.01018595],\n",
       "       [0.0131748 , 0.68912006, 0.32741514, 0.70943768, 0.0875071 ,\n",
       "        0.15989641, 0.61246663],\n",
       "       [0.2858996 , 0.27741048, 0.06770151, 0.03512886, 0.64600729,\n",
       "        0.8154495 , 0.95498145],\n",
       "       [0.79550062, 0.68416966, 0.10919934, 0.31314534, 0.30550852,\n",
       "        0.76578877, 0.90135905],\n",
       "       [0.02698411, 0.26925646, 0.83579877, 0.82518384, 0.96575426,\n",
       "        0.07026711, 0.06184634],\n",
       "       [0.2712701 , 0.25146524, 0.24210076, 0.94687389, 0.49669223,\n",
       "        0.34381675, 0.51617657]])"
      ]
     },
     "execution_count": 26,
     "metadata": {},
     "output_type": "execute_result"
    }
   ],
   "source": [
    "delta"
   ]
  },
  {
   "cell_type": "code",
   "execution_count": 27,
   "metadata": {},
   "outputs": [
    {
     "data": {
      "text/plain": [
       "(30, 7)"
      ]
     },
     "execution_count": 27,
     "metadata": {},
     "output_type": "execute_result"
    }
   ],
   "source": [
    "temperaturas.shape"
   ]
  },
  {
   "cell_type": "code",
   "execution_count": 28,
   "metadata": {},
   "outputs": [
    {
     "data": {
      "text/plain": [
       "(30, 7)"
      ]
     },
     "execution_count": 28,
     "metadata": {},
     "output_type": "execute_result"
    }
   ],
   "source": [
    "delta.shape"
   ]
  },
  {
   "cell_type": "code",
   "execution_count": 29,
   "metadata": {},
   "outputs": [],
   "source": [
    "temps = temperaturas + delta"
   ]
  },
  {
   "cell_type": "code",
   "execution_count": 30,
   "metadata": {},
   "outputs": [
    {
     "data": {
      "text/plain": [
       "array([[20.40668702, 23.01732886, 21.50469123, 21.207384  , 23.35244755,\n",
       "        22.84409777, 24.51757936],\n",
       "       [23.88302244, 21.13958916, 20.20231934, 21.66104862, 20.36543658,\n",
       "        21.31400093, 20.98851785],\n",
       "       [21.70315138, 24.51079151, 22.02712875, 20.01685903, 23.51483028,\n",
       "        21.05565623, 24.19187148],\n",
       "       [20.31472958, 22.05233688, 23.46777781, 22.52925598, 21.14584544,\n",
       "        24.76634723, 24.24265241],\n",
       "       [24.93731672, 24.13678812, 21.77746595, 22.86512057, 21.33131928,\n",
       "        21.36552373, 22.67632552],\n",
       "       [24.33397939, 20.63544861, 21.71032491, 20.44342916, 23.77527015,\n",
       "        24.68952307, 23.76371448],\n",
       "       [20.05585435, 24.26196925, 24.95672185, 20.01682646, 21.15341511,\n",
       "        23.23140648, 24.32357077],\n",
       "       [23.41972675, 20.93756803, 23.8556299 , 22.84173138, 20.66619476,\n",
       "        20.94060288, 21.95479786],\n",
       "       [24.17965445, 22.57923555, 23.30770629, 21.57451482, 22.08395345,\n",
       "        23.17087822, 20.0203999 ],\n",
       "       [21.01624197, 23.43116121, 24.32765788, 24.99689326, 23.41839228,\n",
       "        20.03977916, 22.90470726],\n",
       "       [21.72411073, 21.7135225 , 22.68598289, 22.32494916, 20.50776929,\n",
       "        21.58639089, 23.90774286],\n",
       "       [21.68967931, 20.1041026 , 24.47255442, 21.24716557, 20.92524154,\n",
       "        23.423959  , 20.45834797],\n",
       "       [22.69355271, 22.94185456, 23.67357447, 23.65068276, 22.04479459,\n",
       "        20.82143452, 21.12573695],\n",
       "       [23.80380867, 20.8743516 , 21.46158988, 20.85841634, 20.838584  ,\n",
       "        21.03486396, 24.87477346],\n",
       "       [23.91647986, 23.32718569, 22.34165728, 22.70765794, 24.62588773,\n",
       "        20.50014588, 22.79095682],\n",
       "       [22.74680887, 24.03270943, 22.28521567, 20.30962694, 20.73746542,\n",
       "        20.28388484, 21.44775056],\n",
       "       [20.95436603, 23.3276072 , 24.31788082, 23.48659769, 24.45893118,\n",
       "        20.40076783, 23.80124514],\n",
       "       [24.52233106, 20.20454463, 24.06957399, 24.96502957, 20.43843276,\n",
       "        23.21826134, 24.34237602],\n",
       "       [24.99214718, 20.74491897, 20.15699508, 22.0701358 , 20.65810009,\n",
       "        22.31835155, 22.85045377],\n",
       "       [24.92784897, 23.14125473, 22.29188256, 21.64717563, 23.7529221 ,\n",
       "        21.15403505, 20.57126781],\n",
       "       [23.81180594, 24.13950138, 22.00123941, 20.10641931, 24.13757855,\n",
       "        20.36776702, 20.32535668],\n",
       "       [20.32903766, 20.60382631, 22.36964485, 24.22965869, 21.67048335,\n",
       "        22.56634856, 22.77300517],\n",
       "       [21.19817611, 21.1514165 , 24.90977514, 22.87570633, 23.08029716,\n",
       "        22.99090969, 24.37365325],\n",
       "       [23.21035811, 24.66292026, 23.42385292, 22.90732335, 21.85161023,\n",
       "        24.5837334 , 23.13671938],\n",
       "       [23.09562882, 22.47126706, 23.8304124 , 20.77777863, 22.9796663 ,\n",
       "        22.815243  , 20.01018595],\n",
       "       [22.0131748 , 23.68912006, 22.32741514, 23.70943768, 22.0875071 ,\n",
       "        24.15989641, 20.61246663],\n",
       "       [23.2858996 , 20.27741048, 20.06770151, 20.03512886, 20.64600729,\n",
       "        24.8154495 , 21.95498145],\n",
       "       [23.79550062, 21.68416966, 20.10919934, 22.31314534, 20.30550852,\n",
       "        22.76578877, 20.90135905],\n",
       "       [22.02698411, 24.26925646, 21.83579877, 22.82518384, 22.96575426,\n",
       "        22.07026711, 21.06184634],\n",
       "       [22.2712701 , 21.25146524, 24.24210076, 22.94687389, 24.49669223,\n",
       "        20.34381675, 22.51617657]])"
      ]
     },
     "execution_count": 30,
     "metadata": {},
     "output_type": "execute_result"
    }
   ],
   "source": [
    "temps"
   ]
  },
  {
   "cell_type": "code",
   "execution_count": null,
   "metadata": {},
   "outputs": [],
   "source": []
  },
  {
   "cell_type": "code",
   "execution_count": null,
   "metadata": {},
   "outputs": [],
   "source": []
  }
 ],
 "metadata": {
  "kernelspec": {
   "display_name": "Python 3",
   "language": "python",
   "name": "python3"
  },
  "language_info": {
   "codemirror_mode": {
    "name": "ipython",
    "version": 3
   },
   "file_extension": ".py",
   "mimetype": "text/x-python",
   "name": "python",
   "nbconvert_exporter": "python",
   "pygments_lexer": "ipython3",
   "version": "3.7.7"
  }
 },
 "nbformat": 4,
 "nbformat_minor": 4
}
