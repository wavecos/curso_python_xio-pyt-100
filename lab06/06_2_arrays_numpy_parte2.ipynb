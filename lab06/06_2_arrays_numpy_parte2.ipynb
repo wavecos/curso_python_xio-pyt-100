{
 "cells": [
  {
   "cell_type": "markdown",
   "metadata": {},
   "source": [
    "# Arrays con Numpy Parte II"
   ]
  },
  {
   "cell_type": "markdown",
   "metadata": {},
   "source": [
    "## Números randómicos (aleatorios)"
   ]
  },
  {
   "cell_type": "code",
   "execution_count": 1,
   "metadata": {},
   "outputs": [],
   "source": [
    "import numpy as np"
   ]
  },
  {
   "cell_type": "markdown",
   "metadata": {},
   "source": [
    "## Funcion rand()"
   ]
  },
  {
   "cell_type": "code",
   "execution_count": 2,
   "metadata": {},
   "outputs": [
    {
     "data": {
      "text/plain": [
       "\u001b[0;31mDocstring:\u001b[0m\n",
       "rand(d0, d1, ..., dn)\n",
       "\n",
       "Random values in a given shape.\n",
       "\n",
       ".. note::\n",
       "    This is a convenience function for users porting code from Matlab,\n",
       "    and wraps `random_sample`. That function takes a\n",
       "    tuple to specify the size of the output, which is consistent with\n",
       "    other NumPy functions like `numpy.zeros` and `numpy.ones`.\n",
       "\n",
       "Create an array of the given shape and populate it with\n",
       "random samples from a uniform distribution\n",
       "over ``[0, 1)``.\n",
       "\n",
       "Parameters\n",
       "----------\n",
       "d0, d1, ..., dn : int, optional\n",
       "    The dimensions of the returned array, must be non-negative.\n",
       "    If no argument is given a single Python float is returned.\n",
       "\n",
       "Returns\n",
       "-------\n",
       "out : ndarray, shape ``(d0, d1, ..., dn)``\n",
       "    Random values.\n",
       "\n",
       "See Also\n",
       "--------\n",
       "random\n",
       "\n",
       "Examples\n",
       "--------\n",
       ">>> np.random.rand(3,2)\n",
       "array([[ 0.14022471,  0.96360618],  #random\n",
       "       [ 0.37601032,  0.25528411],  #random\n",
       "       [ 0.49313049,  0.94909878]]) #random\n",
       "\u001b[0;31mType:\u001b[0m      builtin_function_or_method\n"
      ]
     },
     "metadata": {},
     "output_type": "display_data"
    }
   ],
   "source": [
    "np.random.rand?"
   ]
  },
  {
   "cell_type": "code",
   "execution_count": 3,
   "metadata": {},
   "outputs": [],
   "source": [
    "indicadores = np.random.rand(5)"
   ]
  },
  {
   "cell_type": "code",
   "execution_count": 4,
   "metadata": {},
   "outputs": [
    {
     "data": {
      "text/plain": [
       "array([0.21629463, 0.35149975, 0.79545008, 0.82564294, 0.9264386 ])"
      ]
     },
     "execution_count": 4,
     "metadata": {},
     "output_type": "execute_result"
    }
   ],
   "source": [
    "indicadores"
   ]
  },
  {
   "cell_type": "code",
   "execution_count": 5,
   "metadata": {},
   "outputs": [
    {
     "data": {
      "text/plain": [
       "(5,)"
      ]
     },
     "execution_count": 5,
     "metadata": {},
     "output_type": "execute_result"
    }
   ],
   "source": [
    "indicadores.shape"
   ]
  },
  {
   "cell_type": "code",
   "execution_count": 6,
   "metadata": {},
   "outputs": [],
   "source": [
    "indicadores2 = np.random.rand(7, 5)"
   ]
  },
  {
   "cell_type": "code",
   "execution_count": 7,
   "metadata": {},
   "outputs": [
    {
     "data": {
      "text/plain": [
       "array([[0.039733  , 0.32973253, 0.30092916, 0.46912271, 0.24920002],\n",
       "       [0.53348538, 0.40153434, 0.50296392, 0.96415376, 0.13408768],\n",
       "       [0.30589207, 0.91620001, 0.74771806, 0.95853582, 0.9696956 ],\n",
       "       [0.04071291, 0.75150687, 0.15167891, 0.9329745 , 0.67373854],\n",
       "       [0.07003248, 0.03222195, 0.79266376, 0.49051285, 0.30459308],\n",
       "       [0.87235332, 0.54407856, 0.37116935, 0.8322878 , 0.13819337],\n",
       "       [0.66459642, 0.48882529, 0.28770367, 0.04054945, 0.91096373]])"
      ]
     },
     "execution_count": 7,
     "metadata": {},
     "output_type": "execute_result"
    }
   ],
   "source": [
    "indicadores2"
   ]
  },
  {
   "cell_type": "markdown",
   "metadata": {},
   "source": [
    "## Funciones de ndarrays"
   ]
  },
  {
   "cell_type": "code",
   "execution_count": 8,
   "metadata": {},
   "outputs": [
    {
     "data": {
      "text/plain": [
       "0.03222194561612546"
      ]
     },
     "execution_count": 8,
     "metadata": {},
     "output_type": "execute_result"
    }
   ],
   "source": [
    "indicadores2.min()"
   ]
  },
  {
   "cell_type": "code",
   "execution_count": 9,
   "metadata": {},
   "outputs": [
    {
     "data": {
      "text/plain": [
       "0.969695599738259"
      ]
     },
     "execution_count": 9,
     "metadata": {},
     "output_type": "execute_result"
    }
   ],
   "source": [
    "indicadores2.max()"
   ]
  },
  {
   "cell_type": "code",
   "execution_count": 10,
   "metadata": {},
   "outputs": [
    {
     "data": {
      "text/plain": [
       "0.4918383107100898"
      ]
     },
     "execution_count": 10,
     "metadata": {},
     "output_type": "execute_result"
    }
   ],
   "source": [
    "indicadores2.mean()"
   ]
  },
  {
   "cell_type": "code",
   "execution_count": 11,
   "metadata": {},
   "outputs": [
    {
     "data": {
      "text/plain": [
       "17.214340874853143"
      ]
     },
     "execution_count": 11,
     "metadata": {},
     "output_type": "execute_result"
    }
   ],
   "source": [
    "indicadores2.sum()"
   ]
  },
  {
   "cell_type": "code",
   "execution_count": 12,
   "metadata": {},
   "outputs": [],
   "source": [
    "indicadores2.sort()"
   ]
  },
  {
   "cell_type": "code",
   "execution_count": 13,
   "metadata": {},
   "outputs": [
    {
     "data": {
      "text/plain": [
       "array([[0.039733  , 0.24920002, 0.30092916, 0.32973253, 0.46912271],\n",
       "       [0.13408768, 0.40153434, 0.50296392, 0.53348538, 0.96415376],\n",
       "       [0.30589207, 0.74771806, 0.91620001, 0.95853582, 0.9696956 ],\n",
       "       [0.04071291, 0.15167891, 0.67373854, 0.75150687, 0.9329745 ],\n",
       "       [0.03222195, 0.07003248, 0.30459308, 0.49051285, 0.79266376],\n",
       "       [0.13819337, 0.37116935, 0.54407856, 0.8322878 , 0.87235332],\n",
       "       [0.04054945, 0.28770367, 0.48882529, 0.66459642, 0.91096373]])"
      ]
     },
     "execution_count": 13,
     "metadata": {},
     "output_type": "execute_result"
    }
   ],
   "source": [
    "indicadores2"
   ]
  },
  {
   "cell_type": "code",
   "execution_count": 14,
   "metadata": {},
   "outputs": [
    {
     "data": {
      "text/plain": [
       "0.0970529000971461"
      ]
     },
     "execution_count": 14,
     "metadata": {},
     "output_type": "execute_result"
    }
   ],
   "source": [
    "indicadores2.var()"
   ]
  },
  {
   "cell_type": "code",
   "execution_count": 15,
   "metadata": {},
   "outputs": [
    {
     "data": {
      "text/plain": [
       "0.31153314446001745"
      ]
     },
     "execution_count": 15,
     "metadata": {},
     "output_type": "execute_result"
    }
   ],
   "source": [
    "indicadores2.std()"
   ]
  },
  {
   "cell_type": "markdown",
   "metadata": {},
   "source": [
    "## Funcion randint()"
   ]
  },
  {
   "cell_type": "code",
   "execution_count": 16,
   "metadata": {},
   "outputs": [
    {
     "data": {
      "text/plain": [
       "\u001b[0;31mDocstring:\u001b[0m\n",
       "randint(low, high=None, size=None, dtype='l')\n",
       "\n",
       "Return random integers from `low` (inclusive) to `high` (exclusive).\n",
       "\n",
       "Return random integers from the \"discrete uniform\" distribution of\n",
       "the specified dtype in the \"half-open\" interval [`low`, `high`). If\n",
       "`high` is None (the default), then results are from [0, `low`).\n",
       "\n",
       ".. note::\n",
       "    New code should use the ``integers`` method of a ``default_rng()``\n",
       "    instance instead; see `random-quick-start`.\n",
       "\n",
       "Parameters\n",
       "----------\n",
       "low : int or array-like of ints\n",
       "    Lowest (signed) integers to be drawn from the distribution (unless\n",
       "    ``high=None``, in which case this parameter is one above the\n",
       "    *highest* such integer).\n",
       "high : int or array-like of ints, optional\n",
       "    If provided, one above the largest (signed) integer to be drawn\n",
       "    from the distribution (see above for behavior if ``high=None``).\n",
       "    If array-like, must contain integer values\n",
       "size : int or tuple of ints, optional\n",
       "    Output shape.  If the given shape is, e.g., ``(m, n, k)``, then\n",
       "    ``m * n * k`` samples are drawn.  Default is None, in which case a\n",
       "    single value is returned.\n",
       "dtype : dtype, optional\n",
       "    Desired dtype of the result. All dtypes are determined by their\n",
       "    name, i.e., 'int64', 'int', etc, so byteorder is not available\n",
       "    and a specific precision may have different C types depending\n",
       "    on the platform. The default value is `np.int_`.\n",
       "\n",
       "    .. versionadded:: 1.11.0\n",
       "\n",
       "Returns\n",
       "-------\n",
       "out : int or ndarray of ints\n",
       "    `size`-shaped array of random integers from the appropriate\n",
       "    distribution, or a single such random int if `size` not provided.\n",
       "\n",
       "See Also\n",
       "--------\n",
       "random_integers : similar to `randint`, only for the closed\n",
       "    interval [`low`, `high`], and 1 is the lowest value if `high` is\n",
       "    omitted.\n",
       "Generator.integers: which should be used for new code.\n",
       "\n",
       "Examples\n",
       "--------\n",
       ">>> np.random.randint(2, size=10)\n",
       "array([1, 0, 0, 0, 1, 1, 0, 0, 1, 0]) # random\n",
       ">>> np.random.randint(1, size=10)\n",
       "array([0, 0, 0, 0, 0, 0, 0, 0, 0, 0])\n",
       "\n",
       "Generate a 2 x 4 array of ints between 0 and 4, inclusive:\n",
       "\n",
       ">>> np.random.randint(5, size=(2, 4))\n",
       "array([[4, 0, 2, 1], # random\n",
       "       [3, 2, 2, 0]])\n",
       "\n",
       "Generate a 1 x 3 array with 3 different upper bounds\n",
       "\n",
       ">>> np.random.randint(1, [3, 5, 10])\n",
       "array([2, 2, 9]) # random\n",
       "\n",
       "Generate a 1 by 3 array with 3 different lower bounds\n",
       "\n",
       ">>> np.random.randint([1, 5, 7], 10)\n",
       "array([9, 8, 7]) # random\n",
       "\n",
       "Generate a 2 by 4 array using broadcasting with dtype of uint8\n",
       "\n",
       ">>> np.random.randint([1, 3, 5, 7], [[10], [20]], dtype=np.uint8)\n",
       "array([[ 8,  6,  9,  7], # random\n",
       "       [ 1, 16,  9, 12]], dtype=uint8)\n",
       "\u001b[0;31mType:\u001b[0m      builtin_function_or_method\n"
      ]
     },
     "metadata": {},
     "output_type": "display_data"
    }
   ],
   "source": [
    "np.random.randint?"
   ]
  },
  {
   "cell_type": "code",
   "execution_count": 17,
   "metadata": {},
   "outputs": [
    {
     "data": {
      "text/plain": [
       "array([45, 78,  4, 44, 75,  7, 69, 25, 34, 44, 31, 87, 64, 92, 13])"
      ]
     },
     "execution_count": 17,
     "metadata": {},
     "output_type": "execute_result"
    }
   ],
   "source": [
    "np.random.randint(1, 100, 15)"
   ]
  },
  {
   "cell_type": "code",
   "execution_count": 18,
   "metadata": {},
   "outputs": [
    {
     "data": {
      "text/plain": [
       "array([[22, 32, 98, 41],\n",
       "       [74, 97, 46, 70],\n",
       "       [36, 12, 12, 42],\n",
       "       [67, 22, 82, 13],\n",
       "       [ 8, 71, 79, 81]])"
      ]
     },
     "execution_count": 18,
     "metadata": {},
     "output_type": "execute_result"
    }
   ],
   "source": [
    "np.random.randint(1, 100, size=(5, 4))"
   ]
  },
  {
   "cell_type": "code",
   "execution_count": 19,
   "metadata": {},
   "outputs": [],
   "source": [
    "temperaturas = np.random.randint(20, 25, size=(30, 7))"
   ]
  },
  {
   "cell_type": "code",
   "execution_count": 20,
   "metadata": {},
   "outputs": [
    {
     "data": {
      "text/plain": [
       "array([[22, 23, 22, 24, 21, 24, 23],\n",
       "       [22, 24, 23, 21, 24, 20, 21],\n",
       "       [20, 22, 24, 21, 21, 20, 23],\n",
       "       [21, 20, 21, 20, 23, 24, 22],\n",
       "       [21, 24, 24, 21, 23, 21, 20],\n",
       "       [23, 24, 24, 23, 20, 23, 23],\n",
       "       [21, 24, 22, 20, 22, 20, 21],\n",
       "       [20, 22, 23, 21, 24, 24, 22],\n",
       "       [21, 22, 21, 23, 20, 21, 21],\n",
       "       [22, 23, 23, 23, 21, 24, 20],\n",
       "       [23, 22, 24, 23, 24, 20, 23],\n",
       "       [23, 22, 22, 23, 21, 22, 20],\n",
       "       [20, 24, 24, 23, 22, 21, 22],\n",
       "       [22, 21, 23, 23, 24, 21, 21],\n",
       "       [21, 21, 22, 20, 22, 23, 20],\n",
       "       [20, 22, 21, 20, 20, 20, 22],\n",
       "       [20, 23, 20, 24, 21, 22, 21],\n",
       "       [24, 20, 20, 22, 22, 21, 21],\n",
       "       [22, 22, 21, 20, 21, 22, 22],\n",
       "       [21, 21, 20, 22, 21, 24, 22],\n",
       "       [22, 21, 23, 22, 22, 21, 23],\n",
       "       [20, 23, 23, 21, 23, 21, 20],\n",
       "       [21, 24, 22, 21, 20, 24, 22],\n",
       "       [23, 23, 21, 20, 21, 20, 21],\n",
       "       [20, 22, 24, 22, 23, 24, 23],\n",
       "       [24, 22, 20, 24, 22, 23, 21],\n",
       "       [20, 23, 22, 21, 20, 23, 23],\n",
       "       [23, 22, 21, 24, 21, 21, 23],\n",
       "       [21, 20, 22, 21, 23, 21, 22],\n",
       "       [24, 22, 23, 23, 23, 20, 24]])"
      ]
     },
     "execution_count": 20,
     "metadata": {},
     "output_type": "execute_result"
    }
   ],
   "source": [
    "temperaturas"
   ]
  },
  {
   "cell_type": "code",
   "execution_count": 21,
   "metadata": {},
   "outputs": [],
   "source": [
    "delta = np.random.rand(30, 7)"
   ]
  },
  {
   "cell_type": "code",
   "execution_count": 22,
   "metadata": {},
   "outputs": [
    {
     "data": {
      "text/plain": [
       "array([[0.92922276, 0.91004793, 0.74095593, 0.89285706, 0.88501367,\n",
       "        0.18386337, 0.43155975],\n",
       "       [0.0760954 , 0.06919399, 0.31168521, 0.20832037, 0.61125278,\n",
       "        0.50229368, 0.04513961],\n",
       "       [0.28569905, 0.87105416, 0.74020763, 0.46393167, 0.71915443,\n",
       "        0.55272583, 0.31267504],\n",
       "       [0.22329481, 0.28947072, 0.14754362, 0.70425876, 0.08579921,\n",
       "        0.75953836, 0.73000992],\n",
       "       [0.63210638, 0.3314203 , 0.90880581, 0.8390612 , 0.94394674,\n",
       "        0.1694876 , 0.21604408],\n",
       "       [0.92515298, 0.00429157, 0.22933409, 0.05963187, 0.74563007,\n",
       "        0.32915622, 0.21510484],\n",
       "       [0.56290542, 0.78887856, 0.93013946, 0.77450426, 0.04582245,\n",
       "        0.71232117, 0.50346614],\n",
       "       [0.5322    , 0.41967155, 0.85441485, 0.13966267, 0.10595865,\n",
       "        0.76734848, 0.43494467],\n",
       "       [0.55268415, 0.32338581, 0.25964597, 0.22878214, 0.27688454,\n",
       "        0.40037786, 0.54497354],\n",
       "       [0.56426378, 0.06589757, 0.11898865, 0.31634323, 0.64354151,\n",
       "        0.3217018 , 0.91526142],\n",
       "       [0.55789374, 0.33019381, 0.49160379, 0.11342809, 0.92331988,\n",
       "        0.17611039, 0.10360355],\n",
       "       [0.86812219, 0.97101833, 0.35677007, 0.63091774, 0.5315951 ,\n",
       "        0.07536247, 0.93472833],\n",
       "       [0.86995099, 0.81444136, 0.03110157, 0.35799548, 0.91938921,\n",
       "        0.35133229, 0.51466024],\n",
       "       [0.07084765, 0.88260473, 0.2270938 , 0.00617914, 0.13575386,\n",
       "        0.81389006, 0.84617305],\n",
       "       [0.75295666, 0.87459402, 0.71395576, 0.67086737, 0.24712991,\n",
       "        0.79518882, 0.10189065],\n",
       "       [0.76742628, 0.6055324 , 0.32297834, 0.78141162, 0.26410597,\n",
       "        0.63113398, 0.388578  ],\n",
       "       [0.19313088, 0.62056179, 0.80559471, 0.17908573, 0.58106102,\n",
       "        0.11414228, 0.77732998],\n",
       "       [0.16132167, 0.29969353, 0.96584168, 0.79608848, 0.52784279,\n",
       "        0.32005304, 0.49091268],\n",
       "       [0.94964597, 0.02048912, 0.56419313, 0.16228917, 0.08718056,\n",
       "        0.60521452, 0.28566479],\n",
       "       [0.01412481, 0.84256855, 0.08521486, 0.86150903, 0.73490529,\n",
       "        0.56322881, 0.89604083],\n",
       "       [0.16830947, 0.97948441, 0.50273447, 0.24494196, 0.15911024,\n",
       "        0.65101273, 0.76497718],\n",
       "       [0.11145393, 0.33410008, 0.55296707, 0.55666033, 0.99778652,\n",
       "        0.36121289, 0.14454223],\n",
       "       [0.26078974, 0.1464652 , 0.22119783, 0.47511404, 0.30938434,\n",
       "        0.53836542, 0.21234543],\n",
       "       [0.42587189, 0.34744169, 0.91654981, 0.27902104, 0.83616752,\n",
       "        0.47292129, 0.93662018],\n",
       "       [0.67707063, 0.60271002, 0.38235808, 0.65117361, 0.71421392,\n",
       "        0.64437254, 0.70203525],\n",
       "       [0.83163057, 0.98350688, 0.30405047, 0.88303591, 0.34854962,\n",
       "        0.68891893, 0.28035741],\n",
       "       [0.56639817, 0.8926731 , 0.59784768, 0.00871304, 0.25908483,\n",
       "        0.26435662, 0.5846619 ],\n",
       "       [0.35750097, 0.62861048, 0.97969672, 0.58580948, 0.84034095,\n",
       "        0.50168289, 0.95489531],\n",
       "       [0.61138517, 0.19585935, 0.05903359, 0.63688911, 0.11962101,\n",
       "        0.23437367, 0.43465029],\n",
       "       [0.14518059, 0.72272249, 0.16353175, 0.9713385 , 0.76694287,\n",
       "        0.22827988, 0.37333153]])"
      ]
     },
     "execution_count": 22,
     "metadata": {},
     "output_type": "execute_result"
    }
   ],
   "source": [
    "delta"
   ]
  },
  {
   "cell_type": "code",
   "execution_count": 23,
   "metadata": {},
   "outputs": [
    {
     "data": {
      "text/plain": [
       "(30, 7)"
      ]
     },
     "execution_count": 23,
     "metadata": {},
     "output_type": "execute_result"
    }
   ],
   "source": [
    "temperaturas.shape"
   ]
  },
  {
   "cell_type": "code",
   "execution_count": 24,
   "metadata": {},
   "outputs": [
    {
     "data": {
      "text/plain": [
       "(30, 7)"
      ]
     },
     "execution_count": 24,
     "metadata": {},
     "output_type": "execute_result"
    }
   ],
   "source": [
    "delta.shape"
   ]
  },
  {
   "cell_type": "code",
   "execution_count": 25,
   "metadata": {},
   "outputs": [],
   "source": [
    "temps = temperaturas + delta"
   ]
  },
  {
   "cell_type": "code",
   "execution_count": 26,
   "metadata": {},
   "outputs": [
    {
     "data": {
      "text/plain": [
       "array([[22.92922276, 23.91004793, 22.74095593, 24.89285706, 21.88501367,\n",
       "        24.18386337, 23.43155975],\n",
       "       [22.0760954 , 24.06919399, 23.31168521, 21.20832037, 24.61125278,\n",
       "        20.50229368, 21.04513961],\n",
       "       [20.28569905, 22.87105416, 24.74020763, 21.46393167, 21.71915443,\n",
       "        20.55272583, 23.31267504],\n",
       "       [21.22329481, 20.28947072, 21.14754362, 20.70425876, 23.08579921,\n",
       "        24.75953836, 22.73000992],\n",
       "       [21.63210638, 24.3314203 , 24.90880581, 21.8390612 , 23.94394674,\n",
       "        21.1694876 , 20.21604408],\n",
       "       [23.92515298, 24.00429157, 24.22933409, 23.05963187, 20.74563007,\n",
       "        23.32915622, 23.21510484],\n",
       "       [21.56290542, 24.78887856, 22.93013946, 20.77450426, 22.04582245,\n",
       "        20.71232117, 21.50346614],\n",
       "       [20.5322    , 22.41967155, 23.85441485, 21.13966267, 24.10595865,\n",
       "        24.76734848, 22.43494467],\n",
       "       [21.55268415, 22.32338581, 21.25964597, 23.22878214, 20.27688454,\n",
       "        21.40037786, 21.54497354],\n",
       "       [22.56426378, 23.06589757, 23.11898865, 23.31634323, 21.64354151,\n",
       "        24.3217018 , 20.91526142],\n",
       "       [23.55789374, 22.33019381, 24.49160379, 23.11342809, 24.92331988,\n",
       "        20.17611039, 23.10360355],\n",
       "       [23.86812219, 22.97101833, 22.35677007, 23.63091774, 21.5315951 ,\n",
       "        22.07536247, 20.93472833],\n",
       "       [20.86995099, 24.81444136, 24.03110157, 23.35799548, 22.91938921,\n",
       "        21.35133229, 22.51466024],\n",
       "       [22.07084765, 21.88260473, 23.2270938 , 23.00617914, 24.13575386,\n",
       "        21.81389006, 21.84617305],\n",
       "       [21.75295666, 21.87459402, 22.71395576, 20.67086737, 22.24712991,\n",
       "        23.79518882, 20.10189065],\n",
       "       [20.76742628, 22.6055324 , 21.32297834, 20.78141162, 20.26410597,\n",
       "        20.63113398, 22.388578  ],\n",
       "       [20.19313088, 23.62056179, 20.80559471, 24.17908573, 21.58106102,\n",
       "        22.11414228, 21.77732998],\n",
       "       [24.16132167, 20.29969353, 20.96584168, 22.79608848, 22.52784279,\n",
       "        21.32005304, 21.49091268],\n",
       "       [22.94964597, 22.02048912, 21.56419313, 20.16228917, 21.08718056,\n",
       "        22.60521452, 22.28566479],\n",
       "       [21.01412481, 21.84256855, 20.08521486, 22.86150903, 21.73490529,\n",
       "        24.56322881, 22.89604083],\n",
       "       [22.16830947, 21.97948441, 23.50273447, 22.24494196, 22.15911024,\n",
       "        21.65101273, 23.76497718],\n",
       "       [20.11145393, 23.33410008, 23.55296707, 21.55666033, 23.99778652,\n",
       "        21.36121289, 20.14454223],\n",
       "       [21.26078974, 24.1464652 , 22.22119783, 21.47511404, 20.30938434,\n",
       "        24.53836542, 22.21234543],\n",
       "       [23.42587189, 23.34744169, 21.91654981, 20.27902104, 21.83616752,\n",
       "        20.47292129, 21.93662018],\n",
       "       [20.67707063, 22.60271002, 24.38235808, 22.65117361, 23.71421392,\n",
       "        24.64437254, 23.70203525],\n",
       "       [24.83163057, 22.98350688, 20.30405047, 24.88303591, 22.34854962,\n",
       "        23.68891893, 21.28035741],\n",
       "       [20.56639817, 23.8926731 , 22.59784768, 21.00871304, 20.25908483,\n",
       "        23.26435662, 23.5846619 ],\n",
       "       [23.35750097, 22.62861048, 21.97969672, 24.58580948, 21.84034095,\n",
       "        21.50168289, 23.95489531],\n",
       "       [21.61138517, 20.19585935, 22.05903359, 21.63688911, 23.11962101,\n",
       "        21.23437367, 22.43465029],\n",
       "       [24.14518059, 22.72272249, 23.16353175, 23.9713385 , 23.76694287,\n",
       "        20.22827988, 24.37333153]])"
      ]
     },
     "execution_count": 26,
     "metadata": {},
     "output_type": "execute_result"
    }
   ],
   "source": [
    "temps"
   ]
  },
  {
   "cell_type": "markdown",
   "metadata": {},
   "source": [
    "## Axis en NumPy"
   ]
  },
  {
   "cell_type": "markdown",
   "metadata": {},
   "source": [
    "En numpy las filas se refieren al axis=1, y las columnas al axis=0"
   ]
  },
  {
   "cell_type": "markdown",
   "metadata": {},
   "source": [
    "![Image](images/array_axis.png)"
   ]
  },
  {
   "cell_type": "code",
   "execution_count": 28,
   "metadata": {},
   "outputs": [],
   "source": [
    "notas_alumnos = np.random.randint(1, 101, size=(15, 3))"
   ]
  },
  {
   "cell_type": "code",
   "execution_count": 29,
   "metadata": {},
   "outputs": [
    {
     "data": {
      "text/plain": [
       "array([[49, 67, 55],\n",
       "       [98,  9, 33],\n",
       "       [83, 55, 78],\n",
       "       [68, 20, 72],\n",
       "       [82, 16, 25],\n",
       "       [48, 39, 24],\n",
       "       [67, 78, 40],\n",
       "       [93, 70, 16],\n",
       "       [17, 66, 41],\n",
       "       [20, 51, 56],\n",
       "       [39, 44, 30],\n",
       "       [64, 25, 76],\n",
       "       [ 4, 35, 29],\n",
       "       [71, 43, 83],\n",
       "       [94, 24, 76]])"
      ]
     },
     "execution_count": 29,
     "metadata": {},
     "output_type": "execute_result"
    }
   ],
   "source": [
    "notas_alumnos"
   ]
  },
  {
   "cell_type": "code",
   "execution_count": 30,
   "metadata": {},
   "outputs": [
    {
     "data": {
      "text/plain": [
       "array([897, 642, 734])"
      ]
     },
     "execution_count": 30,
     "metadata": {},
     "output_type": "execute_result"
    }
   ],
   "source": [
    "notas_alumnos.sum(axis=0)"
   ]
  },
  {
   "cell_type": "code",
   "execution_count": 31,
   "metadata": {},
   "outputs": [
    {
     "data": {
      "text/plain": [
       "array([171, 140, 216, 160, 123, 111, 185, 179, 124, 127, 113, 165,  68,\n",
       "       197, 194])"
      ]
     },
     "execution_count": 31,
     "metadata": {},
     "output_type": "execute_result"
    }
   ],
   "source": [
    "notas_alumnos.sum(axis=1)"
   ]
  },
  {
   "cell_type": "code",
   "execution_count": 32,
   "metadata": {},
   "outputs": [
    {
     "data": {
      "text/plain": [
       "171"
      ]
     },
     "execution_count": 32,
     "metadata": {},
     "output_type": "execute_result"
    }
   ],
   "source": [
    "49 + 67 + 55"
   ]
  },
  {
   "cell_type": "code",
   "execution_count": 33,
   "metadata": {},
   "outputs": [],
   "source": [
    "# calcular"
   ]
  },
  {
   "cell_type": "code",
   "execution_count": 34,
   "metadata": {},
   "outputs": [
    {
     "data": {
      "text/plain": [
       "array([59.8       , 42.8       , 48.93333333])"
      ]
     },
     "execution_count": 34,
     "metadata": {},
     "output_type": "execute_result"
    }
   ],
   "source": [
    "notas_alumnos.mean(axis=0)"
   ]
  },
  {
   "cell_type": "code",
   "execution_count": 35,
   "metadata": {},
   "outputs": [
    {
     "data": {
      "text/plain": [
       "array([57.        , 46.66666667, 72.        , 53.33333333, 41.        ,\n",
       "       37.        , 61.66666667, 59.66666667, 41.33333333, 42.33333333,\n",
       "       37.66666667, 55.        , 22.66666667, 65.66666667, 64.66666667])"
      ]
     },
     "execution_count": 35,
     "metadata": {},
     "output_type": "execute_result"
    }
   ],
   "source": [
    "notas_alumnos.mean(axis=1)"
   ]
  },
  {
   "cell_type": "code",
   "execution_count": 37,
   "metadata": {},
   "outputs": [],
   "source": [
    "# operaciones sobre filas específicas"
   ]
  },
  {
   "cell_type": "code",
   "execution_count": 38,
   "metadata": {},
   "outputs": [
    {
     "data": {
      "text/plain": [
       "array([[49, 67, 55],\n",
       "       [98,  9, 33],\n",
       "       [83, 55, 78],\n",
       "       [68, 20, 72],\n",
       "       [82, 16, 25],\n",
       "       [48, 39, 24],\n",
       "       [67, 78, 40],\n",
       "       [93, 70, 16],\n",
       "       [17, 66, 41],\n",
       "       [20, 51, 56],\n",
       "       [39, 44, 30],\n",
       "       [64, 25, 76],\n",
       "       [ 4, 35, 29],\n",
       "       [71, 43, 83],\n",
       "       [94, 24, 76]])"
      ]
     },
     "execution_count": 38,
     "metadata": {},
     "output_type": "execute_result"
    }
   ],
   "source": [
    "notas_alumnos"
   ]
  },
  {
   "cell_type": "code",
   "execution_count": 39,
   "metadata": {},
   "outputs": [
    {
     "data": {
      "text/plain": [
       "array([98,  9, 33])"
      ]
     },
     "execution_count": 39,
     "metadata": {},
     "output_type": "execute_result"
    }
   ],
   "source": [
    "notas_alumnos[1]"
   ]
  },
  {
   "cell_type": "code",
   "execution_count": 40,
   "metadata": {},
   "outputs": [
    {
     "data": {
      "text/plain": [
       "46.666666666666664"
      ]
     },
     "execution_count": 40,
     "metadata": {},
     "output_type": "execute_result"
    }
   ],
   "source": [
    "notas_alumnos[1].mean()"
   ]
  },
  {
   "cell_type": "code",
   "execution_count": 41,
   "metadata": {},
   "outputs": [
    {
     "data": {
      "text/plain": [
       "46.666666666666664"
      ]
     },
     "execution_count": 41,
     "metadata": {},
     "output_type": "execute_result"
    }
   ],
   "source": [
    "(98 + 9 + 33) / 3"
   ]
  },
  {
   "cell_type": "code",
   "execution_count": null,
   "metadata": {},
   "outputs": [],
   "source": []
  }
 ],
 "metadata": {
  "kernelspec": {
   "display_name": "Python 3",
   "language": "python",
   "name": "python3"
  },
  "language_info": {
   "codemirror_mode": {
    "name": "ipython",
    "version": 3
   },
   "file_extension": ".py",
   "mimetype": "text/x-python",
   "name": "python",
   "nbconvert_exporter": "python",
   "pygments_lexer": "ipython3",
   "version": "3.7.7"
  }
 },
 "nbformat": 4,
 "nbformat_minor": 4
}
