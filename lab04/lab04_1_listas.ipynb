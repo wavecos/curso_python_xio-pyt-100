{
 "cells": [
  {
   "cell_type": "markdown",
   "metadata": {},
   "source": [
    "# Listas en Python"
   ]
  },
  {
   "cell_type": "markdown",
   "metadata": {},
   "source": [
    "La lista es una colección ordenada y modificable. Permite que existan elementos duplicados. En Python las listas se escriben entre corchetes."
   ]
  },
  {
   "cell_type": "code",
   "execution_count": null,
   "metadata": {},
   "outputs": [],
   "source": [
    "# Definamos una lista"
   ]
  },
  {
   "cell_type": "code",
   "execution_count": 23,
   "metadata": {},
   "outputs": [],
   "source": [
    "temperaturas = [12.5, 13.0, 9.1, 10.8, 12.5]"
   ]
  },
  {
   "cell_type": "code",
   "execution_count": 24,
   "metadata": {},
   "outputs": [
    {
     "data": {
      "text/plain": [
       "list"
      ]
     },
     "execution_count": 24,
     "metadata": {},
     "output_type": "execute_result"
    }
   ],
   "source": [
    "type(temperaturas)"
   ]
  },
  {
   "cell_type": "code",
   "execution_count": 2,
   "metadata": {},
   "outputs": [],
   "source": [
    "# Numero de elementos"
   ]
  },
  {
   "cell_type": "code",
   "execution_count": 3,
   "metadata": {},
   "outputs": [
    {
     "data": {
      "text/plain": [
       "5"
      ]
     },
     "execution_count": 3,
     "metadata": {},
     "output_type": "execute_result"
    }
   ],
   "source": [
    "len(temperaturas)"
   ]
  },
  {
   "cell_type": "code",
   "execution_count": 4,
   "metadata": {},
   "outputs": [],
   "source": [
    "# acceso a elementos por indice"
   ]
  },
  {
   "cell_type": "code",
   "execution_count": 10,
   "metadata": {},
   "outputs": [
    {
     "data": {
      "text/plain": [
       "12.5"
      ]
     },
     "execution_count": 10,
     "metadata": {},
     "output_type": "execute_result"
    }
   ],
   "source": [
    "temperaturas[0]"
   ]
  },
  {
   "cell_type": "code",
   "execution_count": 11,
   "metadata": {},
   "outputs": [
    {
     "data": {
      "text/plain": [
       "9.1"
      ]
     },
     "execution_count": 11,
     "metadata": {},
     "output_type": "execute_result"
    }
   ],
   "source": [
    "temperaturas[2]"
   ]
  },
  {
   "cell_type": "code",
   "execution_count": 6,
   "metadata": {},
   "outputs": [],
   "source": [
    "# acceso al ultimo elemento de una lista"
   ]
  },
  {
   "cell_type": "code",
   "execution_count": 9,
   "metadata": {},
   "outputs": [
    {
     "data": {
      "text/plain": [
       "12.5"
      ]
     },
     "execution_count": 9,
     "metadata": {},
     "output_type": "execute_result"
    }
   ],
   "source": [
    "temperaturas[len(temperaturas) - 1]"
   ]
  },
  {
   "cell_type": "code",
   "execution_count": 12,
   "metadata": {},
   "outputs": [],
   "source": [
    "# modificar elementos de una lista"
   ]
  },
  {
   "cell_type": "code",
   "execution_count": 13,
   "metadata": {},
   "outputs": [
    {
     "data": {
      "text/plain": [
       "[12.5, 13.0, 9.1, 10.8, 12.5]"
      ]
     },
     "execution_count": 13,
     "metadata": {},
     "output_type": "execute_result"
    }
   ],
   "source": [
    "temperaturas"
   ]
  },
  {
   "cell_type": "code",
   "execution_count": null,
   "metadata": {},
   "outputs": [],
   "source": [
    "# quiero modificar el cuarto elemento"
   ]
  },
  {
   "cell_type": "code",
   "execution_count": 14,
   "metadata": {},
   "outputs": [],
   "source": [
    "temperaturas[3] = 10.7"
   ]
  },
  {
   "cell_type": "code",
   "execution_count": 15,
   "metadata": {},
   "outputs": [
    {
     "data": {
      "text/plain": [
       "[12.5, 13.0, 9.1, 10.7, 12.5]"
      ]
     },
     "execution_count": 15,
     "metadata": {},
     "output_type": "execute_result"
    }
   ],
   "source": [
    "temperaturas"
   ]
  },
  {
   "cell_type": "code",
   "execution_count": 16,
   "metadata": {},
   "outputs": [],
   "source": [
    "# Los Strings en Python tambien son Listas (listas de caracteres)"
   ]
  },
  {
   "cell_type": "code",
   "execution_count": 25,
   "metadata": {},
   "outputs": [],
   "source": [
    "saludo = 'Hola Mundo Python'"
   ]
  },
  {
   "cell_type": "code",
   "execution_count": 26,
   "metadata": {},
   "outputs": [
    {
     "data": {
      "text/plain": [
       "str"
      ]
     },
     "execution_count": 26,
     "metadata": {},
     "output_type": "execute_result"
    }
   ],
   "source": [
    "type(saludo)"
   ]
  },
  {
   "cell_type": "code",
   "execution_count": 18,
   "metadata": {},
   "outputs": [
    {
     "data": {
      "text/plain": [
       "17"
      ]
     },
     "execution_count": 18,
     "metadata": {},
     "output_type": "execute_result"
    }
   ],
   "source": [
    "len(saludo)"
   ]
  },
  {
   "cell_type": "code",
   "execution_count": 19,
   "metadata": {},
   "outputs": [
    {
     "data": {
      "text/plain": [
       "'n'"
      ]
     },
     "execution_count": 19,
     "metadata": {},
     "output_type": "execute_result"
    }
   ],
   "source": [
    "saludo[len(saludo) - 1]"
   ]
  },
  {
   "cell_type": "code",
   "execution_count": 20,
   "metadata": {},
   "outputs": [
    {
     "data": {
      "text/plain": [
       "'H'"
      ]
     },
     "execution_count": 20,
     "metadata": {},
     "output_type": "execute_result"
    }
   ],
   "source": [
    "saludo[0]"
   ]
  },
  {
   "cell_type": "code",
   "execution_count": 21,
   "metadata": {},
   "outputs": [],
   "source": [
    "# lo que no puedo hacer es asignar un valor a un elem de una lista"
   ]
  },
  {
   "cell_type": "code",
   "execution_count": 22,
   "metadata": {},
   "outputs": [
    {
     "ename": "TypeError",
     "evalue": "'str' object does not support item assignment",
     "output_type": "error",
     "traceback": [
      "\u001b[0;31m---------------------------------------------------------------------------\u001b[0m",
      "\u001b[0;31mTypeError\u001b[0m                                 Traceback (most recent call last)",
      "\u001b[0;32m<ipython-input-22-0e2f4ccc37f3>\u001b[0m in \u001b[0;36m<module>\u001b[0;34m\u001b[0m\n\u001b[0;32m----> 1\u001b[0;31m \u001b[0msaludo\u001b[0m\u001b[0;34m[\u001b[0m\u001b[0;36m0\u001b[0m\u001b[0;34m]\u001b[0m \u001b[0;34m=\u001b[0m \u001b[0;34m'J'\u001b[0m\u001b[0;34m\u001b[0m\u001b[0;34m\u001b[0m\u001b[0m\n\u001b[0m",
      "\u001b[0;31mTypeError\u001b[0m: 'str' object does not support item assignment"
     ]
    }
   ],
   "source": [
    "saludo[0] = 'J'"
   ]
  },
  {
   "cell_type": "code",
   "execution_count": 27,
   "metadata": {},
   "outputs": [],
   "source": [
    "# Adicionar elementos a una Lista"
   ]
  },
  {
   "cell_type": "code",
   "execution_count": 47,
   "metadata": {},
   "outputs": [],
   "source": [
    "edades = []"
   ]
  },
  {
   "cell_type": "code",
   "execution_count": 31,
   "metadata": {},
   "outputs": [
    {
     "data": {
      "text/plain": [
       "list"
      ]
     },
     "execution_count": 31,
     "metadata": {},
     "output_type": "execute_result"
    }
   ],
   "source": [
    "type(edades)"
   ]
  },
  {
   "cell_type": "code",
   "execution_count": 32,
   "metadata": {},
   "outputs": [],
   "source": [
    "import random"
   ]
  },
  {
   "cell_type": "code",
   "execution_count": 48,
   "metadata": {},
   "outputs": [],
   "source": [
    "for edad in range(11):\n",
    "    edades += [random.randrange(18, 51)]"
   ]
  },
  {
   "cell_type": "code",
   "execution_count": 49,
   "metadata": {},
   "outputs": [
    {
     "data": {
      "text/plain": [
       "[49, 20, 33, 23, 36, 47, 47, 39, 33, 48, 30]"
      ]
     },
     "execution_count": 49,
     "metadata": {},
     "output_type": "execute_result"
    }
   ],
   "source": [
    "edades"
   ]
  },
  {
   "cell_type": "code",
   "execution_count": 50,
   "metadata": {},
   "outputs": [],
   "source": [
    "# Concatenar Listas"
   ]
  },
  {
   "cell_type": "code",
   "execution_count": 51,
   "metadata": {},
   "outputs": [],
   "source": [
    "lista1 = [1, 3, 5, 7]\n",
    "lista2 = [2, 4, 6, 8]\n",
    "lista3 = [1, 3, 5, 7]"
   ]
  },
  {
   "cell_type": "code",
   "execution_count": 52,
   "metadata": {},
   "outputs": [],
   "source": [
    "lista_grande = lista1 + lista2"
   ]
  },
  {
   "cell_type": "code",
   "execution_count": 53,
   "metadata": {},
   "outputs": [
    {
     "data": {
      "text/plain": [
       "[1, 3, 5, 7, 2, 4, 6, 8]"
      ]
     },
     "execution_count": 53,
     "metadata": {},
     "output_type": "execute_result"
    }
   ],
   "source": [
    "lista_grande"
   ]
  },
  {
   "cell_type": "code",
   "execution_count": 54,
   "metadata": {},
   "outputs": [],
   "source": [
    "lista_grande = lista_grande + [10]"
   ]
  },
  {
   "cell_type": "code",
   "execution_count": 55,
   "metadata": {},
   "outputs": [
    {
     "data": {
      "text/plain": [
       "[1, 3, 5, 7, 2, 4, 6, 8, 10]"
      ]
     },
     "execution_count": 55,
     "metadata": {},
     "output_type": "execute_result"
    }
   ],
   "source": [
    "lista_grande"
   ]
  },
  {
   "cell_type": "code",
   "execution_count": 56,
   "metadata": {},
   "outputs": [],
   "source": [
    "lista_grande = lista_grande + lista3"
   ]
  },
  {
   "cell_type": "code",
   "execution_count": 57,
   "metadata": {},
   "outputs": [
    {
     "data": {
      "text/plain": [
       "[1, 3, 5, 7, 2, 4, 6, 8, 10, 1, 3, 5, 7]"
      ]
     },
     "execution_count": 57,
     "metadata": {},
     "output_type": "execute_result"
    }
   ],
   "source": [
    "lista_grande"
   ]
  },
  {
   "cell_type": "code",
   "execution_count": 58,
   "metadata": {},
   "outputs": [
    {
     "name": "stdout",
     "output_type": "stream",
     "text": [
      "1\n",
      "3\n",
      "5\n",
      "7\n",
      "2\n",
      "4\n",
      "6\n",
      "8\n",
      "10\n",
      "1\n",
      "3\n",
      "5\n",
      "7\n"
     ]
    }
   ],
   "source": [
    "# iterar una lista\n",
    "for x in lista_grande:\n",
    "    print(x)"
   ]
  },
  {
   "cell_type": "code",
   "execution_count": 59,
   "metadata": {},
   "outputs": [],
   "source": [
    "# Comparar Listas"
   ]
  },
  {
   "cell_type": "code",
   "execution_count": 60,
   "metadata": {},
   "outputs": [
    {
     "data": {
      "text/plain": [
       "False"
      ]
     },
     "execution_count": 60,
     "metadata": {},
     "output_type": "execute_result"
    }
   ],
   "source": [
    "lista1 == lista2"
   ]
  },
  {
   "cell_type": "code",
   "execution_count": 61,
   "metadata": {},
   "outputs": [
    {
     "data": {
      "text/plain": [
       "True"
      ]
     },
     "execution_count": 61,
     "metadata": {},
     "output_type": "execute_result"
    }
   ],
   "source": [
    "lista1 == lista3"
   ]
  },
  {
   "cell_type": "code",
   "execution_count": 62,
   "metadata": {},
   "outputs": [
    {
     "data": {
      "text/plain": [
       "True"
      ]
     },
     "execution_count": 62,
     "metadata": {},
     "output_type": "execute_result"
    }
   ],
   "source": [
    "lista1 != lista2"
   ]
  },
  {
   "cell_type": "code",
   "execution_count": 63,
   "metadata": {},
   "outputs": [],
   "source": [
    "# Ejemplos con Listas de caracteres y funciones de objetos (para el string)"
   ]
  },
  {
   "cell_type": "code",
   "execution_count": 64,
   "metadata": {},
   "outputs": [],
   "source": [
    "cuento_cerdos = \"\"\"Eran tres-cerditos que decidieron irse al bosque y hacerce una casa cada uno.\n",
    "El cerdito hizo su casa de paja , el cerdito mediado hizo su casa de madera ,\n",
    "y el cerdito más pequeño que era el más trabajador hizo su casa de ladrillo .\n",
    "El mayor terminó muy pronto y se puso a descanzar, pero \"toc - toc\".\n",
    "Quíen es?... soy el lobo y si no me abres, soplare y soplare y tu casa derribaré.\n",
    "Entonces el lobo sopló y sopló hasta que la casa derribó, pero el cerdito consiguió\n",
    "escapar a la casa de su hermando mediano, estaban los dos-cerditos en la casa cuando\n",
    "llegó el lobo y dijo... abran la puerta o soplare y soplare y la casa derribaré....\n",
    "y el lobo sopló y sopló y la casa derribó, pero ellos pudieron escapar a la casa de su\n",
    "hermano pequeño, pero que era de ladrillo y así los tres-cerditos consiguieron ponerse a salvo del lobo .\n",
    "Tres años despues los tres-cerditos terminaron como tocino en Sofía, FIN\"\"\""
   ]
  },
  {
   "cell_type": "code",
   "execution_count": 65,
   "metadata": {},
   "outputs": [
    {
     "data": {
      "text/plain": [
       "'Eran tres-cerditos que decidieron irse al bosque y hacerce una casa cada uno.\\nEl cerdito hizo su casa de paja , el cerdito mediado hizo su casa de madera ,\\ny el cerdito más pequeño que era el más trabajador hizo su casa de ladrillo .\\nEl mayor terminó muy pronto y se puso a descanzar, pero \"toc - toc\".\\nQuíen es?... soy el lobo y si no me abres, soplare y soplare y tu casa derribaré.\\nEntonces el lobo sopló y sopló hasta que la casa derribó, pero el cerdito consiguió\\nescapar a la casa de su hermando mediano, estaban los dos-cerditos en la casa cuando\\nllegó el lobo y dijo... abran la puerta o soplare y soplare y la casa derribaré....\\ny el lobo sopló y sopló y la casa derribó, pero ellos pudieron escapar a la casa de su\\nhermano pequeño, pero que era de ladrillo y así los tres-cerditos consiguieron ponerse a salvo del lobo .\\nTres años despues los tres-cerditos terminaron como tocino en Sofía, FIN'"
      ]
     },
     "execution_count": 65,
     "metadata": {},
     "output_type": "execute_result"
    }
   ],
   "source": [
    "cuento_cerdos"
   ]
  },
  {
   "cell_type": "code",
   "execution_count": 66,
   "metadata": {},
   "outputs": [],
   "source": [
    "# primero es separar en palabras"
   ]
  },
  {
   "cell_type": "code",
   "execution_count": 68,
   "metadata": {},
   "outputs": [],
   "source": [
    "lista_palabras = cuento_cerdos.split(' ')"
   ]
  },
  {
   "cell_type": "code",
   "execution_count": 69,
   "metadata": {},
   "outputs": [
    {
     "data": {
      "text/plain": [
       "161"
      ]
     },
     "execution_count": 69,
     "metadata": {},
     "output_type": "execute_result"
    }
   ],
   "source": [
    "len(lista_palabras)"
   ]
  },
  {
   "cell_type": "code",
   "execution_count": 70,
   "metadata": {},
   "outputs": [
    {
     "data": {
      "text/plain": [
       "'FIN'"
      ]
     },
     "execution_count": 70,
     "metadata": {},
     "output_type": "execute_result"
    }
   ],
   "source": [
    "lista_palabras[len(lista_palabras) - 1]"
   ]
  },
  {
   "cell_type": "code",
   "execution_count": 76,
   "metadata": {},
   "outputs": [],
   "source": [
    "def codificador_cuento(cuento):\n",
    "    lista_palabras = cuento.split(' ')\n",
    "    cuento_salida = ''\n",
    "    for palabra in lista_palabras:\n",
    "        if palabra == 'tres-cerditos':\n",
    "            palabra = '🐷🐷🐷'\n",
    "        if palabra == 'dos-cerditos':\n",
    "            palabra = '🐷🐷'\n",
    "        if palabra == 'casa':\n",
    "            palabra = '🏠'\n",
    "        if palabra == 'cerdito':\n",
    "            palabra = '🐷'\n",
    "        if palabra == 'madera':\n",
    "            palabra = '🌲'\n",
    "        if palabra == 'ladrillo':\n",
    "            palabra = '🧱'\n",
    "        if palabra == 'paja':\n",
    "            palabra = '🌾'\n",
    "        if palabra == 'lobo':\n",
    "            palabra = '🐺'\n",
    "        if palabra == 'soplare':\n",
    "            palabra = '🌬️'\n",
    "        if palabra == 'puerta':\n",
    "            palabra = '🚪'\n",
    "        if palabra == 'tocino':\n",
    "            palabra = '🥓'\n",
    "        \n",
    "        cuento_salida = cuento_salida + ' ' + palabra\n",
    "    \n",
    "    return cuento_salida            \n"
   ]
  },
  {
   "cell_type": "code",
   "execution_count": 77,
   "metadata": {},
   "outputs": [
    {
     "data": {
      "text/plain": [
       "' Eran 🐷🐷🐷 que decidieron irse al bosque y hacerce una 🏠 cada uno.\\nEl 🐷 hizo su 🏠 de 🌾 , el 🐷 mediado hizo su 🏠 de 🌲 ,\\ny el 🐷 más pequeño que era el más trabajador hizo su 🏠 de 🧱 .\\nEl mayor terminó muy pronto y se puso a descanzar, pero \"toc - toc\".\\nQuíen es?... soy el 🐺 y si no me abres, 🌬️ y 🌬️ y tu 🏠 derribaré.\\nEntonces el 🐺 sopló y sopló hasta que la 🏠 derribó, pero el 🐷 consiguió\\nescapar a la 🏠 de su hermando mediano, estaban los 🐷🐷 en la 🏠 cuando\\nllegó el 🐺 y dijo... abran la 🚪 o 🌬️ y 🌬️ y la 🏠 derribaré....\\ny el 🐺 sopló y sopló y la 🏠 derribó, pero ellos pudieron escapar a la 🏠 de su\\nhermano pequeño, pero que era de 🧱 y así los 🐷🐷🐷 consiguieron ponerse a salvo del 🐺 .\\nTres años despues los 🐷🐷🐷 terminaron como 🥓 en Sofía, FIN'"
      ]
     },
     "execution_count": 77,
     "metadata": {},
     "output_type": "execute_result"
    }
   ],
   "source": [
    "codificador_cuento(cuento_cerdos)"
   ]
  },
  {
   "cell_type": "code",
   "execution_count": 78,
   "metadata": {},
   "outputs": [
    {
     "name": "stdout",
     "output_type": "stream",
     "text": [
      " Eran 🐷🐷🐷 que decidieron irse al bosque y hacerce una 🏠 cada uno.\n",
      "El 🐷 hizo su 🏠 de 🌾 , el 🐷 mediado hizo su 🏠 de 🌲 ,\n",
      "y el 🐷 más pequeño que era el más trabajador hizo su 🏠 de 🧱 .\n",
      "El mayor terminó muy pronto y se puso a descanzar, pero \"toc - toc\".\n",
      "Quíen es?... soy el 🐺 y si no me abres, 🌬️ y 🌬️ y tu 🏠 derribaré.\n",
      "Entonces el 🐺 sopló y sopló hasta que la 🏠 derribó, pero el 🐷 consiguió\n",
      "escapar a la 🏠 de su hermando mediano, estaban los 🐷🐷 en la 🏠 cuando\n",
      "llegó el 🐺 y dijo... abran la 🚪 o 🌬️ y 🌬️ y la 🏠 derribaré....\n",
      "y el 🐺 sopló y sopló y la 🏠 derribó, pero ellos pudieron escapar a la 🏠 de su\n",
      "hermano pequeño, pero que era de 🧱 y así los 🐷🐷🐷 consiguieron ponerse a salvo del 🐺 .\n",
      "Tres años despues los 🐷🐷🐷 terminaron como 🥓 en Sofía, FIN\n"
     ]
    }
   ],
   "source": [
    "print(codificador_cuento(cuento_cerdos))"
   ]
  },
  {
   "cell_type": "code",
   "execution_count": 79,
   "metadata": {},
   "outputs": [
    {
     "name": "stdout",
     "output_type": "stream",
     "text": [
      " un 🐷 salio de la 🚪 de su 🏠 por un 🧱\n"
     ]
    }
   ],
   "source": [
    "print(codificador_cuento('un cerdito salio de la puerta de su casa por un ladrillo'))"
   ]
  },
  {
   "cell_type": "code",
   "execution_count": null,
   "metadata": {},
   "outputs": [],
   "source": []
  },
  {
   "cell_type": "code",
   "execution_count": null,
   "metadata": {},
   "outputs": [],
   "source": []
  }
 ],
 "metadata": {
  "kernelspec": {
   "display_name": "Python 3",
   "language": "python",
   "name": "python3"
  },
  "language_info": {
   "codemirror_mode": {
    "name": "ipython",
    "version": 3
   },
   "file_extension": ".py",
   "mimetype": "text/x-python",
   "name": "python",
   "nbconvert_exporter": "python",
   "pygments_lexer": "ipython3",
   "version": "3.7.7"
  }
 },
 "nbformat": 4,
 "nbformat_minor": 4
}
